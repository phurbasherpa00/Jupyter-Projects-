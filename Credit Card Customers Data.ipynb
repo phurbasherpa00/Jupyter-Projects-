{
 "cells": [
  {
   "cell_type": "code",
   "execution_count": 1,
   "id": "ce4ec769",
   "metadata": {},
   "outputs": [],
   "source": [
    "\n",
    "import numpy as np # linear algebra\n",
    "import pandas as pd # data processing, CSV file I/O (e.g. pd.read_csv)\n",
    "import matplotlib.pyplot as plt\n",
    "import seaborn as sns\n",
    "import matplotlib.axes as ax\n",
    "import plotly.graph_objects as go"
   ]
  },
  {
   "cell_type": "code",
   "execution_count": 2,
   "id": "c7a34adc",
   "metadata": {},
   "outputs": [],
   "source": [
    "df = pd.read_csv(\"BankChurners.csv\")"
   ]
  },
  {
   "cell_type": "code",
   "execution_count": 3,
   "id": "8a451d5f",
   "metadata": {},
   "outputs": [
    {
     "data": {
      "text/html": [
       "<div>\n",
       "<style scoped>\n",
       "    .dataframe tbody tr th:only-of-type {\n",
       "        vertical-align: middle;\n",
       "    }\n",
       "\n",
       "    .dataframe tbody tr th {\n",
       "        vertical-align: top;\n",
       "    }\n",
       "\n",
       "    .dataframe thead th {\n",
       "        text-align: right;\n",
       "    }\n",
       "</style>\n",
       "<table border=\"1\" class=\"dataframe\">\n",
       "  <thead>\n",
       "    <tr style=\"text-align: right;\">\n",
       "      <th></th>\n",
       "      <th>CLIENTNUM</th>\n",
       "      <th>Attrition_Flag</th>\n",
       "      <th>Customer_Age</th>\n",
       "      <th>Gender</th>\n",
       "      <th>Dependent_count</th>\n",
       "      <th>Education_Level</th>\n",
       "      <th>Marital_Status</th>\n",
       "      <th>Income_Category</th>\n",
       "      <th>Card_Category</th>\n",
       "      <th>Months_on_book</th>\n",
       "      <th>...</th>\n",
       "      <th>Credit_Limit</th>\n",
       "      <th>Total_Revolving_Bal</th>\n",
       "      <th>Avg_Open_To_Buy</th>\n",
       "      <th>Total_Amt_Chng_Q4_Q1</th>\n",
       "      <th>Total_Trans_Amt</th>\n",
       "      <th>Total_Trans_Ct</th>\n",
       "      <th>Total_Ct_Chng_Q4_Q1</th>\n",
       "      <th>Avg_Utilization_Ratio</th>\n",
       "      <th>Naive_Bayes_Classifier_Attrition_Flag_Card_Category_Contacts_Count_12_mon_Dependent_count_Education_Level_Months_Inactive_12_mon_1</th>\n",
       "      <th>Naive_Bayes_Classifier_Attrition_Flag_Card_Category_Contacts_Count_12_mon_Dependent_count_Education_Level_Months_Inactive_12_mon_2</th>\n",
       "    </tr>\n",
       "  </thead>\n",
       "  <tbody>\n",
       "    <tr>\n",
       "      <th>0</th>\n",
       "      <td>768805383</td>\n",
       "      <td>Existing Customer</td>\n",
       "      <td>45</td>\n",
       "      <td>M</td>\n",
       "      <td>3</td>\n",
       "      <td>High School</td>\n",
       "      <td>Married</td>\n",
       "      <td>$60K - $80K</td>\n",
       "      <td>Blue</td>\n",
       "      <td>39</td>\n",
       "      <td>...</td>\n",
       "      <td>12691.0</td>\n",
       "      <td>777</td>\n",
       "      <td>11914.0</td>\n",
       "      <td>1.335</td>\n",
       "      <td>1144</td>\n",
       "      <td>42</td>\n",
       "      <td>1.625</td>\n",
       "      <td>0.061</td>\n",
       "      <td>0.000093</td>\n",
       "      <td>0.99991</td>\n",
       "    </tr>\n",
       "    <tr>\n",
       "      <th>1</th>\n",
       "      <td>818770008</td>\n",
       "      <td>Existing Customer</td>\n",
       "      <td>49</td>\n",
       "      <td>F</td>\n",
       "      <td>5</td>\n",
       "      <td>Graduate</td>\n",
       "      <td>Single</td>\n",
       "      <td>Less than $40K</td>\n",
       "      <td>Blue</td>\n",
       "      <td>44</td>\n",
       "      <td>...</td>\n",
       "      <td>8256.0</td>\n",
       "      <td>864</td>\n",
       "      <td>7392.0</td>\n",
       "      <td>1.541</td>\n",
       "      <td>1291</td>\n",
       "      <td>33</td>\n",
       "      <td>3.714</td>\n",
       "      <td>0.105</td>\n",
       "      <td>0.000057</td>\n",
       "      <td>0.99994</td>\n",
       "    </tr>\n",
       "    <tr>\n",
       "      <th>2</th>\n",
       "      <td>713982108</td>\n",
       "      <td>Existing Customer</td>\n",
       "      <td>51</td>\n",
       "      <td>M</td>\n",
       "      <td>3</td>\n",
       "      <td>Graduate</td>\n",
       "      <td>Married</td>\n",
       "      <td>$80K - $120K</td>\n",
       "      <td>Blue</td>\n",
       "      <td>36</td>\n",
       "      <td>...</td>\n",
       "      <td>3418.0</td>\n",
       "      <td>0</td>\n",
       "      <td>3418.0</td>\n",
       "      <td>2.594</td>\n",
       "      <td>1887</td>\n",
       "      <td>20</td>\n",
       "      <td>2.333</td>\n",
       "      <td>0.000</td>\n",
       "      <td>0.000021</td>\n",
       "      <td>0.99998</td>\n",
       "    </tr>\n",
       "    <tr>\n",
       "      <th>3</th>\n",
       "      <td>769911858</td>\n",
       "      <td>Existing Customer</td>\n",
       "      <td>40</td>\n",
       "      <td>F</td>\n",
       "      <td>4</td>\n",
       "      <td>High School</td>\n",
       "      <td>Unknown</td>\n",
       "      <td>Less than $40K</td>\n",
       "      <td>Blue</td>\n",
       "      <td>34</td>\n",
       "      <td>...</td>\n",
       "      <td>3313.0</td>\n",
       "      <td>2517</td>\n",
       "      <td>796.0</td>\n",
       "      <td>1.405</td>\n",
       "      <td>1171</td>\n",
       "      <td>20</td>\n",
       "      <td>2.333</td>\n",
       "      <td>0.760</td>\n",
       "      <td>0.000134</td>\n",
       "      <td>0.99987</td>\n",
       "    </tr>\n",
       "    <tr>\n",
       "      <th>4</th>\n",
       "      <td>709106358</td>\n",
       "      <td>Existing Customer</td>\n",
       "      <td>40</td>\n",
       "      <td>M</td>\n",
       "      <td>3</td>\n",
       "      <td>Uneducated</td>\n",
       "      <td>Married</td>\n",
       "      <td>$60K - $80K</td>\n",
       "      <td>Blue</td>\n",
       "      <td>21</td>\n",
       "      <td>...</td>\n",
       "      <td>4716.0</td>\n",
       "      <td>0</td>\n",
       "      <td>4716.0</td>\n",
       "      <td>2.175</td>\n",
       "      <td>816</td>\n",
       "      <td>28</td>\n",
       "      <td>2.500</td>\n",
       "      <td>0.000</td>\n",
       "      <td>0.000022</td>\n",
       "      <td>0.99998</td>\n",
       "    </tr>\n",
       "  </tbody>\n",
       "</table>\n",
       "<p>5 rows × 23 columns</p>\n",
       "</div>"
      ],
      "text/plain": [
       "   CLIENTNUM     Attrition_Flag  Customer_Age Gender  Dependent_count  \\\n",
       "0  768805383  Existing Customer            45      M                3   \n",
       "1  818770008  Existing Customer            49      F                5   \n",
       "2  713982108  Existing Customer            51      M                3   \n",
       "3  769911858  Existing Customer            40      F                4   \n",
       "4  709106358  Existing Customer            40      M                3   \n",
       "\n",
       "  Education_Level Marital_Status Income_Category Card_Category  \\\n",
       "0     High School        Married     $60K - $80K          Blue   \n",
       "1        Graduate         Single  Less than $40K          Blue   \n",
       "2        Graduate        Married    $80K - $120K          Blue   \n",
       "3     High School        Unknown  Less than $40K          Blue   \n",
       "4      Uneducated        Married     $60K - $80K          Blue   \n",
       "\n",
       "   Months_on_book  ...  Credit_Limit  Total_Revolving_Bal  Avg_Open_To_Buy  \\\n",
       "0              39  ...       12691.0                  777          11914.0   \n",
       "1              44  ...        8256.0                  864           7392.0   \n",
       "2              36  ...        3418.0                    0           3418.0   \n",
       "3              34  ...        3313.0                 2517            796.0   \n",
       "4              21  ...        4716.0                    0           4716.0   \n",
       "\n",
       "   Total_Amt_Chng_Q4_Q1  Total_Trans_Amt  Total_Trans_Ct  Total_Ct_Chng_Q4_Q1  \\\n",
       "0                 1.335             1144              42                1.625   \n",
       "1                 1.541             1291              33                3.714   \n",
       "2                 2.594             1887              20                2.333   \n",
       "3                 1.405             1171              20                2.333   \n",
       "4                 2.175              816              28                2.500   \n",
       "\n",
       "   Avg_Utilization_Ratio  \\\n",
       "0                  0.061   \n",
       "1                  0.105   \n",
       "2                  0.000   \n",
       "3                  0.760   \n",
       "4                  0.000   \n",
       "\n",
       "   Naive_Bayes_Classifier_Attrition_Flag_Card_Category_Contacts_Count_12_mon_Dependent_count_Education_Level_Months_Inactive_12_mon_1  \\\n",
       "0                                           0.000093                                                                                    \n",
       "1                                           0.000057                                                                                    \n",
       "2                                           0.000021                                                                                    \n",
       "3                                           0.000134                                                                                    \n",
       "4                                           0.000022                                                                                    \n",
       "\n",
       "   Naive_Bayes_Classifier_Attrition_Flag_Card_Category_Contacts_Count_12_mon_Dependent_count_Education_Level_Months_Inactive_12_mon_2  \n",
       "0                                            0.99991                                                                                   \n",
       "1                                            0.99994                                                                                   \n",
       "2                                            0.99998                                                                                   \n",
       "3                                            0.99987                                                                                   \n",
       "4                                            0.99998                                                                                   \n",
       "\n",
       "[5 rows x 23 columns]"
      ]
     },
     "execution_count": 3,
     "metadata": {},
     "output_type": "execute_result"
    }
   ],
   "source": [
    "df.head()"
   ]
  },
  {
   "cell_type": "markdown",
   "id": "47a50e23",
   "metadata": {},
   "source": [
    "### Problem Statement - What are the key Value Drivers that Impacts Attrition Flag so the company can target specific demographics or group."
   ]
  },
  {
   "cell_type": "markdown",
   "id": "641d99d2",
   "metadata": {},
   "source": [
    "### Reviewing some info about this dataframe and checking to see if the Data needs to be Cleaned."
   ]
  },
  {
   "cell_type": "code",
   "execution_count": 4,
   "id": "b59383db",
   "metadata": {},
   "outputs": [
    {
     "name": "stdout",
     "output_type": "stream",
     "text": [
      "<class 'pandas.core.frame.DataFrame'>\n",
      "RangeIndex: 10127 entries, 0 to 10126\n",
      "Data columns (total 23 columns):\n",
      " #   Column                                                                                                                              Non-Null Count  Dtype  \n",
      "---  ------                                                                                                                              --------------  -----  \n",
      " 0   CLIENTNUM                                                                                                                           10127 non-null  int64  \n",
      " 1   Attrition_Flag                                                                                                                      10127 non-null  object \n",
      " 2   Customer_Age                                                                                                                        10127 non-null  int64  \n",
      " 3   Gender                                                                                                                              10127 non-null  object \n",
      " 4   Dependent_count                                                                                                                     10127 non-null  int64  \n",
      " 5   Education_Level                                                                                                                     10127 non-null  object \n",
      " 6   Marital_Status                                                                                                                      10127 non-null  object \n",
      " 7   Income_Category                                                                                                                     10127 non-null  object \n",
      " 8   Card_Category                                                                                                                       10127 non-null  object \n",
      " 9   Months_on_book                                                                                                                      10127 non-null  int64  \n",
      " 10  Total_Relationship_Count                                                                                                            10127 non-null  int64  \n",
      " 11  Months_Inactive_12_mon                                                                                                              10127 non-null  int64  \n",
      " 12  Contacts_Count_12_mon                                                                                                               10127 non-null  int64  \n",
      " 13  Credit_Limit                                                                                                                        10127 non-null  float64\n",
      " 14  Total_Revolving_Bal                                                                                                                 10127 non-null  int64  \n",
      " 15  Avg_Open_To_Buy                                                                                                                     10127 non-null  float64\n",
      " 16  Total_Amt_Chng_Q4_Q1                                                                                                                10127 non-null  float64\n",
      " 17  Total_Trans_Amt                                                                                                                     10127 non-null  int64  \n",
      " 18  Total_Trans_Ct                                                                                                                      10127 non-null  int64  \n",
      " 19  Total_Ct_Chng_Q4_Q1                                                                                                                 10127 non-null  float64\n",
      " 20  Avg_Utilization_Ratio                                                                                                               10127 non-null  float64\n",
      " 21  Naive_Bayes_Classifier_Attrition_Flag_Card_Category_Contacts_Count_12_mon_Dependent_count_Education_Level_Months_Inactive_12_mon_1  10127 non-null  float64\n",
      " 22  Naive_Bayes_Classifier_Attrition_Flag_Card_Category_Contacts_Count_12_mon_Dependent_count_Education_Level_Months_Inactive_12_mon_2  10127 non-null  float64\n",
      "dtypes: float64(7), int64(10), object(6)\n",
      "memory usage: 1.8+ MB\n"
     ]
    }
   ],
   "source": [
    "df.info()"
   ]
  },
  {
   "cell_type": "code",
   "execution_count": 5,
   "id": "acfbfe6f",
   "metadata": {},
   "outputs": [
    {
     "data": {
      "text/html": [
       "<div>\n",
       "<style scoped>\n",
       "    .dataframe tbody tr th:only-of-type {\n",
       "        vertical-align: middle;\n",
       "    }\n",
       "\n",
       "    .dataframe tbody tr th {\n",
       "        vertical-align: top;\n",
       "    }\n",
       "\n",
       "    .dataframe thead th {\n",
       "        text-align: right;\n",
       "    }\n",
       "</style>\n",
       "<table border=\"1\" class=\"dataframe\">\n",
       "  <thead>\n",
       "    <tr style=\"text-align: right;\">\n",
       "      <th></th>\n",
       "      <th>CLIENTNUM</th>\n",
       "      <th>Customer_Age</th>\n",
       "      <th>Dependent_count</th>\n",
       "      <th>Months_on_book</th>\n",
       "      <th>Total_Relationship_Count</th>\n",
       "      <th>Months_Inactive_12_mon</th>\n",
       "      <th>Contacts_Count_12_mon</th>\n",
       "      <th>Credit_Limit</th>\n",
       "      <th>Total_Revolving_Bal</th>\n",
       "      <th>Avg_Open_To_Buy</th>\n",
       "      <th>Total_Amt_Chng_Q4_Q1</th>\n",
       "      <th>Total_Trans_Amt</th>\n",
       "      <th>Total_Trans_Ct</th>\n",
       "      <th>Total_Ct_Chng_Q4_Q1</th>\n",
       "      <th>Avg_Utilization_Ratio</th>\n",
       "      <th>Naive_Bayes_Classifier_Attrition_Flag_Card_Category_Contacts_Count_12_mon_Dependent_count_Education_Level_Months_Inactive_12_mon_1</th>\n",
       "      <th>Naive_Bayes_Classifier_Attrition_Flag_Card_Category_Contacts_Count_12_mon_Dependent_count_Education_Level_Months_Inactive_12_mon_2</th>\n",
       "    </tr>\n",
       "  </thead>\n",
       "  <tbody>\n",
       "    <tr>\n",
       "      <th>count</th>\n",
       "      <td>1.012700e+04</td>\n",
       "      <td>10127.000000</td>\n",
       "      <td>10127.000000</td>\n",
       "      <td>10127.000000</td>\n",
       "      <td>10127.000000</td>\n",
       "      <td>10127.000000</td>\n",
       "      <td>10127.000000</td>\n",
       "      <td>10127.000000</td>\n",
       "      <td>10127.000000</td>\n",
       "      <td>10127.000000</td>\n",
       "      <td>10127.000000</td>\n",
       "      <td>10127.000000</td>\n",
       "      <td>10127.000000</td>\n",
       "      <td>10127.000000</td>\n",
       "      <td>10127.000000</td>\n",
       "      <td>10127.000000</td>\n",
       "      <td>10127.000000</td>\n",
       "    </tr>\n",
       "    <tr>\n",
       "      <th>mean</th>\n",
       "      <td>7.391776e+08</td>\n",
       "      <td>46.325960</td>\n",
       "      <td>2.346203</td>\n",
       "      <td>35.928409</td>\n",
       "      <td>3.812580</td>\n",
       "      <td>2.341167</td>\n",
       "      <td>2.455317</td>\n",
       "      <td>8631.953698</td>\n",
       "      <td>1162.814061</td>\n",
       "      <td>7469.139637</td>\n",
       "      <td>0.759941</td>\n",
       "      <td>4404.086304</td>\n",
       "      <td>64.858695</td>\n",
       "      <td>0.712222</td>\n",
       "      <td>0.274894</td>\n",
       "      <td>0.159997</td>\n",
       "      <td>0.840003</td>\n",
       "    </tr>\n",
       "    <tr>\n",
       "      <th>std</th>\n",
       "      <td>3.690378e+07</td>\n",
       "      <td>8.016814</td>\n",
       "      <td>1.298908</td>\n",
       "      <td>7.986416</td>\n",
       "      <td>1.554408</td>\n",
       "      <td>1.010622</td>\n",
       "      <td>1.106225</td>\n",
       "      <td>9088.776650</td>\n",
       "      <td>814.987335</td>\n",
       "      <td>9090.685324</td>\n",
       "      <td>0.219207</td>\n",
       "      <td>3397.129254</td>\n",
       "      <td>23.472570</td>\n",
       "      <td>0.238086</td>\n",
       "      <td>0.275691</td>\n",
       "      <td>0.365301</td>\n",
       "      <td>0.365301</td>\n",
       "    </tr>\n",
       "    <tr>\n",
       "      <th>min</th>\n",
       "      <td>7.080821e+08</td>\n",
       "      <td>26.000000</td>\n",
       "      <td>0.000000</td>\n",
       "      <td>13.000000</td>\n",
       "      <td>1.000000</td>\n",
       "      <td>0.000000</td>\n",
       "      <td>0.000000</td>\n",
       "      <td>1438.300000</td>\n",
       "      <td>0.000000</td>\n",
       "      <td>3.000000</td>\n",
       "      <td>0.000000</td>\n",
       "      <td>510.000000</td>\n",
       "      <td>10.000000</td>\n",
       "      <td>0.000000</td>\n",
       "      <td>0.000000</td>\n",
       "      <td>0.000008</td>\n",
       "      <td>0.000420</td>\n",
       "    </tr>\n",
       "    <tr>\n",
       "      <th>25%</th>\n",
       "      <td>7.130368e+08</td>\n",
       "      <td>41.000000</td>\n",
       "      <td>1.000000</td>\n",
       "      <td>31.000000</td>\n",
       "      <td>3.000000</td>\n",
       "      <td>2.000000</td>\n",
       "      <td>2.000000</td>\n",
       "      <td>2555.000000</td>\n",
       "      <td>359.000000</td>\n",
       "      <td>1324.500000</td>\n",
       "      <td>0.631000</td>\n",
       "      <td>2155.500000</td>\n",
       "      <td>45.000000</td>\n",
       "      <td>0.582000</td>\n",
       "      <td>0.023000</td>\n",
       "      <td>0.000099</td>\n",
       "      <td>0.999660</td>\n",
       "    </tr>\n",
       "    <tr>\n",
       "      <th>50%</th>\n",
       "      <td>7.179264e+08</td>\n",
       "      <td>46.000000</td>\n",
       "      <td>2.000000</td>\n",
       "      <td>36.000000</td>\n",
       "      <td>4.000000</td>\n",
       "      <td>2.000000</td>\n",
       "      <td>2.000000</td>\n",
       "      <td>4549.000000</td>\n",
       "      <td>1276.000000</td>\n",
       "      <td>3474.000000</td>\n",
       "      <td>0.736000</td>\n",
       "      <td>3899.000000</td>\n",
       "      <td>67.000000</td>\n",
       "      <td>0.702000</td>\n",
       "      <td>0.176000</td>\n",
       "      <td>0.000181</td>\n",
       "      <td>0.999820</td>\n",
       "    </tr>\n",
       "    <tr>\n",
       "      <th>75%</th>\n",
       "      <td>7.731435e+08</td>\n",
       "      <td>52.000000</td>\n",
       "      <td>3.000000</td>\n",
       "      <td>40.000000</td>\n",
       "      <td>5.000000</td>\n",
       "      <td>3.000000</td>\n",
       "      <td>3.000000</td>\n",
       "      <td>11067.500000</td>\n",
       "      <td>1784.000000</td>\n",
       "      <td>9859.000000</td>\n",
       "      <td>0.859000</td>\n",
       "      <td>4741.000000</td>\n",
       "      <td>81.000000</td>\n",
       "      <td>0.818000</td>\n",
       "      <td>0.503000</td>\n",
       "      <td>0.000337</td>\n",
       "      <td>0.999900</td>\n",
       "    </tr>\n",
       "    <tr>\n",
       "      <th>max</th>\n",
       "      <td>8.283431e+08</td>\n",
       "      <td>73.000000</td>\n",
       "      <td>5.000000</td>\n",
       "      <td>56.000000</td>\n",
       "      <td>6.000000</td>\n",
       "      <td>6.000000</td>\n",
       "      <td>6.000000</td>\n",
       "      <td>34516.000000</td>\n",
       "      <td>2517.000000</td>\n",
       "      <td>34516.000000</td>\n",
       "      <td>3.397000</td>\n",
       "      <td>18484.000000</td>\n",
       "      <td>139.000000</td>\n",
       "      <td>3.714000</td>\n",
       "      <td>0.999000</td>\n",
       "      <td>0.999580</td>\n",
       "      <td>0.999990</td>\n",
       "    </tr>\n",
       "  </tbody>\n",
       "</table>\n",
       "</div>"
      ],
      "text/plain": [
       "          CLIENTNUM  Customer_Age  Dependent_count  Months_on_book  \\\n",
       "count  1.012700e+04  10127.000000     10127.000000    10127.000000   \n",
       "mean   7.391776e+08     46.325960         2.346203       35.928409   \n",
       "std    3.690378e+07      8.016814         1.298908        7.986416   \n",
       "min    7.080821e+08     26.000000         0.000000       13.000000   \n",
       "25%    7.130368e+08     41.000000         1.000000       31.000000   \n",
       "50%    7.179264e+08     46.000000         2.000000       36.000000   \n",
       "75%    7.731435e+08     52.000000         3.000000       40.000000   \n",
       "max    8.283431e+08     73.000000         5.000000       56.000000   \n",
       "\n",
       "       Total_Relationship_Count  Months_Inactive_12_mon  \\\n",
       "count              10127.000000            10127.000000   \n",
       "mean                   3.812580                2.341167   \n",
       "std                    1.554408                1.010622   \n",
       "min                    1.000000                0.000000   \n",
       "25%                    3.000000                2.000000   \n",
       "50%                    4.000000                2.000000   \n",
       "75%                    5.000000                3.000000   \n",
       "max                    6.000000                6.000000   \n",
       "\n",
       "       Contacts_Count_12_mon  Credit_Limit  Total_Revolving_Bal  \\\n",
       "count           10127.000000  10127.000000         10127.000000   \n",
       "mean                2.455317   8631.953698          1162.814061   \n",
       "std                 1.106225   9088.776650           814.987335   \n",
       "min                 0.000000   1438.300000             0.000000   \n",
       "25%                 2.000000   2555.000000           359.000000   \n",
       "50%                 2.000000   4549.000000          1276.000000   \n",
       "75%                 3.000000  11067.500000          1784.000000   \n",
       "max                 6.000000  34516.000000          2517.000000   \n",
       "\n",
       "       Avg_Open_To_Buy  Total_Amt_Chng_Q4_Q1  Total_Trans_Amt  Total_Trans_Ct  \\\n",
       "count     10127.000000          10127.000000     10127.000000    10127.000000   \n",
       "mean       7469.139637              0.759941      4404.086304       64.858695   \n",
       "std        9090.685324              0.219207      3397.129254       23.472570   \n",
       "min           3.000000              0.000000       510.000000       10.000000   \n",
       "25%        1324.500000              0.631000      2155.500000       45.000000   \n",
       "50%        3474.000000              0.736000      3899.000000       67.000000   \n",
       "75%        9859.000000              0.859000      4741.000000       81.000000   \n",
       "max       34516.000000              3.397000     18484.000000      139.000000   \n",
       "\n",
       "       Total_Ct_Chng_Q4_Q1  Avg_Utilization_Ratio  \\\n",
       "count         10127.000000           10127.000000   \n",
       "mean              0.712222               0.274894   \n",
       "std               0.238086               0.275691   \n",
       "min               0.000000               0.000000   \n",
       "25%               0.582000               0.023000   \n",
       "50%               0.702000               0.176000   \n",
       "75%               0.818000               0.503000   \n",
       "max               3.714000               0.999000   \n",
       "\n",
       "       Naive_Bayes_Classifier_Attrition_Flag_Card_Category_Contacts_Count_12_mon_Dependent_count_Education_Level_Months_Inactive_12_mon_1  \\\n",
       "count                                       10127.000000                                                                                    \n",
       "mean                                            0.159997                                                                                    \n",
       "std                                             0.365301                                                                                    \n",
       "min                                             0.000008                                                                                    \n",
       "25%                                             0.000099                                                                                    \n",
       "50%                                             0.000181                                                                                    \n",
       "75%                                             0.000337                                                                                    \n",
       "max                                             0.999580                                                                                    \n",
       "\n",
       "       Naive_Bayes_Classifier_Attrition_Flag_Card_Category_Contacts_Count_12_mon_Dependent_count_Education_Level_Months_Inactive_12_mon_2  \n",
       "count                                       10127.000000                                                                                   \n",
       "mean                                            0.840003                                                                                   \n",
       "std                                             0.365301                                                                                   \n",
       "min                                             0.000420                                                                                   \n",
       "25%                                             0.999660                                                                                   \n",
       "50%                                             0.999820                                                                                   \n",
       "75%                                             0.999900                                                                                   \n",
       "max                                             0.999990                                                                                   "
      ]
     },
     "execution_count": 5,
     "metadata": {},
     "output_type": "execute_result"
    }
   ],
   "source": [
    "df.describe()"
   ]
  },
  {
   "cell_type": "markdown",
   "id": "f0d60b84",
   "metadata": {},
   "source": [
    "### Overview of the total count of Existing Customer / Attrited Customer"
   ]
  },
  {
   "cell_type": "code",
   "execution_count": 6,
   "id": "a4f58f98",
   "metadata": {},
   "outputs": [
    {
     "data": {
      "text/plain": [
       "<Axes: xlabel='Attrition_Flag', ylabel='count'>"
      ]
     },
     "execution_count": 6,
     "metadata": {},
     "output_type": "execute_result"
    },
    {
     "data": {
      "image/png": "[encoded data removed]",
      "text/plain": [
       "<Figure size 640x480 with 1 Axes>"
      ]
     },
     "metadata": {},
     "output_type": "display_data"
    }
   ],
   "source": [
    "sns.countplot(data=df,x = 'Attrition_Flag')"
   ]
  },
  {
   "cell_type": "markdown",
   "id": "afb6e520",
   "metadata": {},
   "source": [
    "### Creating a Combo Chart to find out the Percent Attrition based on Education Levels."
   ]
  },
  {
   "cell_type": "code",
   "execution_count": 16,
   "id": "8006157a",
   "metadata": {},
   "outputs": [
    {
     "data": {
      "text/plain": [
       "Attrition_Flag\n",
       "Existing Customer    8500\n",
       "Attrited Customer    1627\n",
       "dtype: int64"
      ]
     },
     "execution_count": 16,
     "metadata": {},
     "output_type": "execute_result"
    }
   ],
   "source": [
    "df.value_counts(\"Attrition_Flag\") "
   ]
  },
  {
   "cell_type": "code",
   "execution_count": 17,
   "id": "e2ac8268",
   "metadata": {},
   "outputs": [
    {
     "data": {
      "text/plain": [
       "Education_Level\n",
       "Graduate         3128\n",
       "High School      2013\n",
       "Unknown          1519\n",
       "Uneducated       1487\n",
       "College          1013\n",
       "Post-Graduate     516\n",
       "Doctorate         451\n",
       "dtype: int64"
      ]
     },
     "execution_count": 17,
     "metadata": {},
     "output_type": "execute_result"
    }
   ],
   "source": [
    "df.value_counts(\"Education_Level\")"
   ]
  },
  {
   "cell_type": "markdown",
   "id": "3b3c6dd1",
   "metadata": {},
   "source": [
    "### Step 1 : Creating smaller table to store information we need."
   ]
  },
  {
   "cell_type": "code",
   "execution_count": 63,
   "id": "0e296ac6",
   "metadata": {},
   "outputs": [],
   "source": [
    "df_education = df[[\"Attrition_Flag\", \"Education_Level\"]].copy() \n"
   ]
  },
  {
   "cell_type": "code",
   "execution_count": 19,
   "id": "25a8be02",
   "metadata": {},
   "outputs": [
    {
     "data": {
      "text/html": [
       "<div>\n",
       "<style scoped>\n",
       "    .dataframe tbody tr th:only-of-type {\n",
       "        vertical-align: middle;\n",
       "    }\n",
       "\n",
       "    .dataframe tbody tr th {\n",
       "        vertical-align: top;\n",
       "    }\n",
       "\n",
       "    .dataframe thead th {\n",
       "        text-align: right;\n",
       "    }\n",
       "</style>\n",
       "<table border=\"1\" class=\"dataframe\">\n",
       "  <thead>\n",
       "    <tr style=\"text-align: right;\">\n",
       "      <th></th>\n",
       "      <th>Attrition_Flag</th>\n",
       "      <th>Education_Level</th>\n",
       "    </tr>\n",
       "  </thead>\n",
       "  <tbody>\n",
       "    <tr>\n",
       "      <th>0</th>\n",
       "      <td>Existing Customer</td>\n",
       "      <td>High School</td>\n",
       "    </tr>\n",
       "    <tr>\n",
       "      <th>1</th>\n",
       "      <td>Existing Customer</td>\n",
       "      <td>Graduate</td>\n",
       "    </tr>\n",
       "    <tr>\n",
       "      <th>2</th>\n",
       "      <td>Existing Customer</td>\n",
       "      <td>Graduate</td>\n",
       "    </tr>\n",
       "    <tr>\n",
       "      <th>3</th>\n",
       "      <td>Existing Customer</td>\n",
       "      <td>High School</td>\n",
       "    </tr>\n",
       "    <tr>\n",
       "      <th>4</th>\n",
       "      <td>Existing Customer</td>\n",
       "      <td>Uneducated</td>\n",
       "    </tr>\n",
       "  </tbody>\n",
       "</table>\n",
       "</div>"
      ],
      "text/plain": [
       "      Attrition_Flag Education_Level\n",
       "0  Existing Customer     High School\n",
       "1  Existing Customer        Graduate\n",
       "2  Existing Customer        Graduate\n",
       "3  Existing Customer     High School\n",
       "4  Existing Customer      Uneducated"
      ]
     },
     "execution_count": 19,
     "metadata": {},
     "output_type": "execute_result"
    }
   ],
   "source": [
    "df_education.head()"
   ]
  },
  {
   "cell_type": "markdown",
   "id": "0c1ea89a",
   "metadata": {},
   "source": [
    "### Step 2 : Assigning Binary number and converting Existing Customer : 0 and Attrited Customer : 1"
   ]
  },
  {
   "cell_type": "code",
   "execution_count": 64,
   "id": "7bf70349",
   "metadata": {},
   "outputs": [],
   "source": [
    " df_education[\"Attrition_Flag_binary\"] = df_education[\"Attrition_Flag\"].map({\"Existing Customer\": 0, \"Attrited Customer\": 1})"
   ]
  },
  {
   "cell_type": "code",
   "execution_count": 65,
   "id": "f7c79f4b",
   "metadata": {},
   "outputs": [
    {
     "data": {
      "text/html": [
       "<div>\n",
       "<style scoped>\n",
       "    .dataframe tbody tr th:only-of-type {\n",
       "        vertical-align: middle;\n",
       "    }\n",
       "\n",
       "    .dataframe tbody tr th {\n",
       "        vertical-align: top;\n",
       "    }\n",
       "\n",
       "    .dataframe thead th {\n",
       "        text-align: right;\n",
       "    }\n",
       "</style>\n",
       "<table border=\"1\" class=\"dataframe\">\n",
       "  <thead>\n",
       "    <tr style=\"text-align: right;\">\n",
       "      <th></th>\n",
       "      <th>Attrition_Flag</th>\n",
       "      <th>Education_Level</th>\n",
       "      <th>Attrition_Flag_binary</th>\n",
       "    </tr>\n",
       "  </thead>\n",
       "  <tbody>\n",
       "    <tr>\n",
       "      <th>0</th>\n",
       "      <td>Existing Customer</td>\n",
       "      <td>High School</td>\n",
       "      <td>0</td>\n",
       "    </tr>\n",
       "    <tr>\n",
       "      <th>1</th>\n",
       "      <td>Existing Customer</td>\n",
       "      <td>Graduate</td>\n",
       "      <td>0</td>\n",
       "    </tr>\n",
       "    <tr>\n",
       "      <th>2</th>\n",
       "      <td>Existing Customer</td>\n",
       "      <td>Graduate</td>\n",
       "      <td>0</td>\n",
       "    </tr>\n",
       "    <tr>\n",
       "      <th>3</th>\n",
       "      <td>Existing Customer</td>\n",
       "      <td>High School</td>\n",
       "      <td>0</td>\n",
       "    </tr>\n",
       "    <tr>\n",
       "      <th>4</th>\n",
       "      <td>Existing Customer</td>\n",
       "      <td>Uneducated</td>\n",
       "      <td>0</td>\n",
       "    </tr>\n",
       "  </tbody>\n",
       "</table>\n",
       "</div>"
      ],
      "text/plain": [
       "      Attrition_Flag Education_Level  Attrition_Flag_binary\n",
       "0  Existing Customer     High School                      0\n",
       "1  Existing Customer        Graduate                      0\n",
       "2  Existing Customer        Graduate                      0\n",
       "3  Existing Customer     High School                      0\n",
       "4  Existing Customer      Uneducated                      0"
      ]
     },
     "execution_count": 65,
     "metadata": {},
     "output_type": "execute_result"
    }
   ],
   "source": [
    "df_education.head()"
   ]
  },
  {
   "cell_type": "markdown",
   "id": "e7217239",
   "metadata": {},
   "source": [
    "### Step 3 : Using Group by to sum and count.\n",
    "> * Group by + sum will not affect the number 0\n",
    "> * Group by + Count will include 0 when being counted.\n"
   ]
  },
  {
   "cell_type": "code",
   "execution_count": 179,
   "id": "e11c794c",
   "metadata": {},
   "outputs": [
    {
     "name": "stderr",
     "output_type": "stream",
     "text": [
      "/var/folders/_6/tsvwl7mj4wq1y64czljdw6bm0000gn/T/ipykernel_69113/1601065636.py:1: FutureWarning:\n",
      "\n",
      "The default value of numeric_only in DataFrameGroupBy.sum is deprecated. In a future version, numeric_only will default to False. Either specify numeric_only or select only columns which should be valid for the function.\n",
      "\n"
     ]
    }
   ],
   "source": [
    "df_attrition_number = df_education.groupby(\"Education_Level\").sum()"
   ]
  },
  {
   "cell_type": "code",
   "execution_count": 180,
   "id": "a91691b0",
   "metadata": {},
   "outputs": [],
   "source": [
    "df_total_number = df_education.groupby(\"Education_Level\").count()"
   ]
  },
  {
   "cell_type": "code",
   "execution_count": 192,
   "id": "bf478a9a",
   "metadata": {},
   "outputs": [
    {
     "data": {
      "text/html": [
       "<div>\n",
       "<style scoped>\n",
       "    .dataframe tbody tr th:only-of-type {\n",
       "        vertical-align: middle;\n",
       "    }\n",
       "\n",
       "    .dataframe tbody tr th {\n",
       "        vertical-align: top;\n",
       "    }\n",
       "\n",
       "    .dataframe thead th {\n",
       "        text-align: right;\n",
       "    }\n",
       "</style>\n",
       "<table border=\"1\" class=\"dataframe\">\n",
       "  <thead>\n",
       "    <tr style=\"text-align: right;\">\n",
       "      <th></th>\n",
       "      <th>Attrition_count</th>\n",
       "    </tr>\n",
       "    <tr>\n",
       "      <th>Education_Level</th>\n",
       "      <th></th>\n",
       "    </tr>\n",
       "  </thead>\n",
       "  <tbody>\n",
       "    <tr>\n",
       "      <th>College</th>\n",
       "      <td>154</td>\n",
       "    </tr>\n",
       "    <tr>\n",
       "      <th>Doctorate</th>\n",
       "      <td>95</td>\n",
       "    </tr>\n",
       "    <tr>\n",
       "      <th>Graduate</th>\n",
       "      <td>487</td>\n",
       "    </tr>\n",
       "    <tr>\n",
       "      <th>High School</th>\n",
       "      <td>306</td>\n",
       "    </tr>\n",
       "    <tr>\n",
       "      <th>Post-Graduate</th>\n",
       "      <td>92</td>\n",
       "    </tr>\n",
       "    <tr>\n",
       "      <th>Uneducated</th>\n",
       "      <td>237</td>\n",
       "    </tr>\n",
       "    <tr>\n",
       "      <th>Unknown</th>\n",
       "      <td>256</td>\n",
       "    </tr>\n",
       "  </tbody>\n",
       "</table>\n",
       "</div>"
      ],
      "text/plain": [
       "                 Attrition_count\n",
       "Education_Level                 \n",
       "College                      154\n",
       "Doctorate                     95\n",
       "Graduate                     487\n",
       "High School                  306\n",
       "Post-Graduate                 92\n",
       "Uneducated                   237\n",
       "Unknown                      256"
      ]
     },
     "execution_count": 192,
     "metadata": {},
     "output_type": "execute_result"
    }
   ],
   "source": [
    "df_attrition_number"
   ]
  },
  {
   "cell_type": "code",
   "execution_count": 182,
   "id": "5f8494aa",
   "metadata": {},
   "outputs": [
    {
     "data": {
      "text/html": [
       "<div>\n",
       "<style scoped>\n",
       "    .dataframe tbody tr th:only-of-type {\n",
       "        vertical-align: middle;\n",
       "    }\n",
       "\n",
       "    .dataframe tbody tr th {\n",
       "        vertical-align: top;\n",
       "    }\n",
       "\n",
       "    .dataframe thead th {\n",
       "        text-align: right;\n",
       "    }\n",
       "</style>\n",
       "<table border=\"1\" class=\"dataframe\">\n",
       "  <thead>\n",
       "    <tr style=\"text-align: right;\">\n",
       "      <th></th>\n",
       "      <th>Attrition_Flag</th>\n",
       "      <th>Attrition_Flag_binary</th>\n",
       "    </tr>\n",
       "    <tr>\n",
       "      <th>Education_Level</th>\n",
       "      <th></th>\n",
       "      <th></th>\n",
       "    </tr>\n",
       "  </thead>\n",
       "  <tbody>\n",
       "    <tr>\n",
       "      <th>College</th>\n",
       "      <td>1013</td>\n",
       "      <td>1013</td>\n",
       "    </tr>\n",
       "    <tr>\n",
       "      <th>Doctorate</th>\n",
       "      <td>451</td>\n",
       "      <td>451</td>\n",
       "    </tr>\n",
       "    <tr>\n",
       "      <th>Graduate</th>\n",
       "      <td>3128</td>\n",
       "      <td>3128</td>\n",
       "    </tr>\n",
       "    <tr>\n",
       "      <th>High School</th>\n",
       "      <td>2013</td>\n",
       "      <td>2013</td>\n",
       "    </tr>\n",
       "    <tr>\n",
       "      <th>Post-Graduate</th>\n",
       "      <td>516</td>\n",
       "      <td>516</td>\n",
       "    </tr>\n",
       "    <tr>\n",
       "      <th>Uneducated</th>\n",
       "      <td>1487</td>\n",
       "      <td>1487</td>\n",
       "    </tr>\n",
       "    <tr>\n",
       "      <th>Unknown</th>\n",
       "      <td>1519</td>\n",
       "      <td>1519</td>\n",
       "    </tr>\n",
       "  </tbody>\n",
       "</table>\n",
       "</div>"
      ],
      "text/plain": [
       "                 Attrition_Flag  Attrition_Flag_binary\n",
       "Education_Level                                       \n",
       "College                    1013                   1013\n",
       "Doctorate                   451                    451\n",
       "Graduate                   3128                   3128\n",
       "High School                2013                   2013\n",
       "Post-Graduate               516                    516\n",
       "Uneducated                 1487                   1487\n",
       "Unknown                    1519                   1519"
      ]
     },
     "execution_count": 182,
     "metadata": {},
     "output_type": "execute_result"
    }
   ],
   "source": [
    "df_total_number"
   ]
  },
  {
   "cell_type": "markdown",
   "id": "41e51978",
   "metadata": {},
   "source": []
  },
  {
   "cell_type": "code",
   "execution_count": 199,
   "id": "60b23b6d",
   "metadata": {},
   "outputs": [],
   "source": [
    "df_total_number.rename({\"Attrition_count\": \"Attrition_total_count\"}, axis = 1, inplace = True) \n"
   ]
  },
  {
   "cell_type": "code",
   "execution_count": 200,
   "id": "826947f7",
   "metadata": {},
   "outputs": [
    {
     "data": {
      "text/html": [
       "<div>\n",
       "<style scoped>\n",
       "    .dataframe tbody tr th:only-of-type {\n",
       "        vertical-align: middle;\n",
       "    }\n",
       "\n",
       "    .dataframe tbody tr th {\n",
       "        vertical-align: top;\n",
       "    }\n",
       "\n",
       "    .dataframe thead th {\n",
       "        text-align: right;\n",
       "    }\n",
       "</style>\n",
       "<table border=\"1\" class=\"dataframe\">\n",
       "  <thead>\n",
       "    <tr style=\"text-align: right;\">\n",
       "      <th></th>\n",
       "      <th>Attrition_Flag</th>\n",
       "      <th>Attrition_total_count</th>\n",
       "    </tr>\n",
       "    <tr>\n",
       "      <th>Education_Level</th>\n",
       "      <th></th>\n",
       "      <th></th>\n",
       "    </tr>\n",
       "  </thead>\n",
       "  <tbody>\n",
       "    <tr>\n",
       "      <th>College</th>\n",
       "      <td>1013</td>\n",
       "      <td>1013</td>\n",
       "    </tr>\n",
       "    <tr>\n",
       "      <th>Doctorate</th>\n",
       "      <td>451</td>\n",
       "      <td>451</td>\n",
       "    </tr>\n",
       "    <tr>\n",
       "      <th>Graduate</th>\n",
       "      <td>3128</td>\n",
       "      <td>3128</td>\n",
       "    </tr>\n",
       "    <tr>\n",
       "      <th>High School</th>\n",
       "      <td>2013</td>\n",
       "      <td>2013</td>\n",
       "    </tr>\n",
       "    <tr>\n",
       "      <th>Post-Graduate</th>\n",
       "      <td>516</td>\n",
       "      <td>516</td>\n",
       "    </tr>\n",
       "    <tr>\n",
       "      <th>Uneducated</th>\n",
       "      <td>1487</td>\n",
       "      <td>1487</td>\n",
       "    </tr>\n",
       "    <tr>\n",
       "      <th>Unknown</th>\n",
       "      <td>1519</td>\n",
       "      <td>1519</td>\n",
       "    </tr>\n",
       "  </tbody>\n",
       "</table>\n",
       "</div>"
      ],
      "text/plain": [
       "                 Attrition_Flag  Attrition_total_count\n",
       "Education_Level                                       \n",
       "College                    1013                   1013\n",
       "Doctorate                   451                    451\n",
       "Graduate                   3128                   3128\n",
       "High School                2013                   2013\n",
       "Post-Graduate               516                    516\n",
       "Uneducated                 1487                   1487\n",
       "Unknown                    1519                   1519"
      ]
     },
     "execution_count": 200,
     "metadata": {},
     "output_type": "execute_result"
    }
   ],
   "source": [
    "df_total_number"
   ]
  },
  {
   "cell_type": "markdown",
   "id": "f6fd54be",
   "metadata": {},
   "source": [
    "### Step 4 : Calculating the rate and the percentage"
   ]
  },
  {
   "cell_type": "code",
   "execution_count": 201,
   "id": "12d7f9da",
   "metadata": {},
   "outputs": [],
   "source": [
    "df_attrition_rate = df_attrition_number[\"Attrition_count\"] / df_total_number[\"Attrition_total_count\"]"
   ]
  },
  {
   "cell_type": "code",
   "execution_count": 202,
   "id": "911edc9a",
   "metadata": {},
   "outputs": [
    {
     "data": {
      "text/plain": [
       "Education_Level\n",
       "College          0.152024\n",
       "Doctorate        0.210643\n",
       "Graduate         0.155691\n",
       "High School      0.152012\n",
       "Post-Graduate    0.178295\n",
       "Uneducated       0.159381\n",
       "Unknown          0.168532\n",
       "dtype: float64"
      ]
     },
     "execution_count": 202,
     "metadata": {},
     "output_type": "execute_result"
    }
   ],
   "source": [
    "df_attrition_rate"
   ]
  },
  {
   "cell_type": "code",
   "execution_count": 203,
   "id": "a61824d6",
   "metadata": {},
   "outputs": [],
   "source": [
    "\n",
    "df_education_final = pd.concat([df_total_number,df_attrition_rate], axis = 1)"
   ]
  },
  {
   "cell_type": "code",
   "execution_count": 204,
   "id": "6acf9a4e",
   "metadata": {},
   "outputs": [
    {
     "data": {
      "text/html": [
       "<div>\n",
       "<style scoped>\n",
       "    .dataframe tbody tr th:only-of-type {\n",
       "        vertical-align: middle;\n",
       "    }\n",
       "\n",
       "    .dataframe tbody tr th {\n",
       "        vertical-align: top;\n",
       "    }\n",
       "\n",
       "    .dataframe thead th {\n",
       "        text-align: right;\n",
       "    }\n",
       "</style>\n",
       "<table border=\"1\" class=\"dataframe\">\n",
       "  <thead>\n",
       "    <tr style=\"text-align: right;\">\n",
       "      <th></th>\n",
       "      <th>Attrition_Flag</th>\n",
       "      <th>Attrition_total_count</th>\n",
       "      <th>0</th>\n",
       "    </tr>\n",
       "    <tr>\n",
       "      <th>Education_Level</th>\n",
       "      <th></th>\n",
       "      <th></th>\n",
       "      <th></th>\n",
       "    </tr>\n",
       "  </thead>\n",
       "  <tbody>\n",
       "    <tr>\n",
       "      <th>College</th>\n",
       "      <td>1013</td>\n",
       "      <td>1013</td>\n",
       "      <td>0.152024</td>\n",
       "    </tr>\n",
       "    <tr>\n",
       "      <th>Doctorate</th>\n",
       "      <td>451</td>\n",
       "      <td>451</td>\n",
       "      <td>0.210643</td>\n",
       "    </tr>\n",
       "    <tr>\n",
       "      <th>Graduate</th>\n",
       "      <td>3128</td>\n",
       "      <td>3128</td>\n",
       "      <td>0.155691</td>\n",
       "    </tr>\n",
       "    <tr>\n",
       "      <th>High School</th>\n",
       "      <td>2013</td>\n",
       "      <td>2013</td>\n",
       "      <td>0.152012</td>\n",
       "    </tr>\n",
       "    <tr>\n",
       "      <th>Post-Graduate</th>\n",
       "      <td>516</td>\n",
       "      <td>516</td>\n",
       "      <td>0.178295</td>\n",
       "    </tr>\n",
       "    <tr>\n",
       "      <th>Uneducated</th>\n",
       "      <td>1487</td>\n",
       "      <td>1487</td>\n",
       "      <td>0.159381</td>\n",
       "    </tr>\n",
       "    <tr>\n",
       "      <th>Unknown</th>\n",
       "      <td>1519</td>\n",
       "      <td>1519</td>\n",
       "      <td>0.168532</td>\n",
       "    </tr>\n",
       "  </tbody>\n",
       "</table>\n",
       "</div>"
      ],
      "text/plain": [
       "                 Attrition_Flag  Attrition_total_count         0\n",
       "Education_Level                                                 \n",
       "College                    1013                   1013  0.152024\n",
       "Doctorate                   451                    451  0.210643\n",
       "Graduate                   3128                   3128  0.155691\n",
       "High School                2013                   2013  0.152012\n",
       "Post-Graduate               516                    516  0.178295\n",
       "Uneducated                 1487                   1487  0.159381\n",
       "Unknown                    1519                   1519  0.168532"
      ]
     },
     "execution_count": 204,
     "metadata": {},
     "output_type": "execute_result"
    }
   ],
   "source": [
    "df_education_final"
   ]
  },
  {
   "cell_type": "code",
   "execution_count": 205,
   "id": "5602d032",
   "metadata": {},
   "outputs": [
    {
     "data": {
      "text/plain": [
       "Index(['Attrition_Flag', 'Attrition_total_count', 0], dtype='object')"
      ]
     },
     "execution_count": 205,
     "metadata": {},
     "output_type": "execute_result"
    }
   ],
   "source": [
    "df_education_final.columns"
   ]
  },
  {
   "cell_type": "code",
   "execution_count": 206,
   "id": "995a0498",
   "metadata": {},
   "outputs": [],
   "source": [
    "\n",
    "df_education_final.rename({0: \"Attrition_float\"}, axis = 1,inplace = True)"
   ]
  },
  {
   "cell_type": "code",
   "execution_count": 207,
   "id": "468b15fd",
   "metadata": {},
   "outputs": [],
   "source": [
    "df_education_final[\"Attrition_pct\"] = df_education_final[\"Attrition_float\"].map(\"{:.2%}\".format)"
   ]
  },
  {
   "cell_type": "code",
   "execution_count": 208,
   "id": "b68a1495",
   "metadata": {},
   "outputs": [
    {
     "data": {
      "text/html": [
       "<div>\n",
       "<style scoped>\n",
       "    .dataframe tbody tr th:only-of-type {\n",
       "        vertical-align: middle;\n",
       "    }\n",
       "\n",
       "    .dataframe tbody tr th {\n",
       "        vertical-align: top;\n",
       "    }\n",
       "\n",
       "    .dataframe thead th {\n",
       "        text-align: right;\n",
       "    }\n",
       "</style>\n",
       "<table border=\"1\" class=\"dataframe\">\n",
       "  <thead>\n",
       "    <tr style=\"text-align: right;\">\n",
       "      <th></th>\n",
       "      <th>Attrition_Flag</th>\n",
       "      <th>Attrition_total_count</th>\n",
       "      <th>Attrition_float</th>\n",
       "      <th>Attrition_pct</th>\n",
       "    </tr>\n",
       "    <tr>\n",
       "      <th>Education_Level</th>\n",
       "      <th></th>\n",
       "      <th></th>\n",
       "      <th></th>\n",
       "      <th></th>\n",
       "    </tr>\n",
       "  </thead>\n",
       "  <tbody>\n",
       "    <tr>\n",
       "      <th>College</th>\n",
       "      <td>1013</td>\n",
       "      <td>1013</td>\n",
       "      <td>0.152024</td>\n",
       "      <td>15.20%</td>\n",
       "    </tr>\n",
       "    <tr>\n",
       "      <th>Doctorate</th>\n",
       "      <td>451</td>\n",
       "      <td>451</td>\n",
       "      <td>0.210643</td>\n",
       "      <td>21.06%</td>\n",
       "    </tr>\n",
       "    <tr>\n",
       "      <th>Graduate</th>\n",
       "      <td>3128</td>\n",
       "      <td>3128</td>\n",
       "      <td>0.155691</td>\n",
       "      <td>15.57%</td>\n",
       "    </tr>\n",
       "    <tr>\n",
       "      <th>High School</th>\n",
       "      <td>2013</td>\n",
       "      <td>2013</td>\n",
       "      <td>0.152012</td>\n",
       "      <td>15.20%</td>\n",
       "    </tr>\n",
       "    <tr>\n",
       "      <th>Post-Graduate</th>\n",
       "      <td>516</td>\n",
       "      <td>516</td>\n",
       "      <td>0.178295</td>\n",
       "      <td>17.83%</td>\n",
       "    </tr>\n",
       "    <tr>\n",
       "      <th>Uneducated</th>\n",
       "      <td>1487</td>\n",
       "      <td>1487</td>\n",
       "      <td>0.159381</td>\n",
       "      <td>15.94%</td>\n",
       "    </tr>\n",
       "    <tr>\n",
       "      <th>Unknown</th>\n",
       "      <td>1519</td>\n",
       "      <td>1519</td>\n",
       "      <td>0.168532</td>\n",
       "      <td>16.85%</td>\n",
       "    </tr>\n",
       "  </tbody>\n",
       "</table>\n",
       "</div>"
      ],
      "text/plain": [
       "                 Attrition_Flag  Attrition_total_count  Attrition_float  \\\n",
       "Education_Level                                                           \n",
       "College                    1013                   1013         0.152024   \n",
       "Doctorate                   451                    451         0.210643   \n",
       "Graduate                   3128                   3128         0.155691   \n",
       "High School                2013                   2013         0.152012   \n",
       "Post-Graduate               516                    516         0.178295   \n",
       "Uneducated                 1487                   1487         0.159381   \n",
       "Unknown                    1519                   1519         0.168532   \n",
       "\n",
       "                Attrition_pct  \n",
       "Education_Level                \n",
       "College                15.20%  \n",
       "Doctorate              21.06%  \n",
       "Graduate               15.57%  \n",
       "High School            15.20%  \n",
       "Post-Graduate          17.83%  \n",
       "Uneducated             15.94%  \n",
       "Unknown                16.85%  "
      ]
     },
     "execution_count": 208,
     "metadata": {},
     "output_type": "execute_result"
    }
   ],
   "source": [
    "df_education_final"
   ]
  },
  {
   "cell_type": "markdown",
   "id": "de2a2eb0",
   "metadata": {},
   "source": [
    "### Step 5 : Plotting the Data Frame that was created."
   ]
  },
  {
   "cell_type": "code",
   "execution_count": 210,
   "id": "fcf15d9d",
   "metadata": {},
   "outputs": [],
   "source": [
    "x = df_education_final.index\n",
    "y1 = df_education_final[\"Attrition_total_count\"]\n",
    "y2 = df_education_final[\"Attrition_float\"]\n",
    "y3 = df_education_final[\"Attrition_pct\"]"
   ]
  },
  {
   "cell_type": "markdown",
   "id": "fba1f7a2",
   "metadata": {},
   "source": [
    "### This Combo chart of line and bar that shows Attrition Percentage for Different Education Levels\n",
    "> * Line chart should show the Attrition Percentage\n",
    "> * Bar chart should show the Total count."
   ]
  },
  {
   "cell_type": "code",
   "execution_count": 211,
   "id": "7ca874f8",
   "metadata": {
    "scrolled": false
   },
   "outputs": [
    {
     "data": {
      "image/png": "[encoded data removed]",
      "text/plain": [
       "<Figure size 1500x900 with 2 Axes>"
      ]
     },
     "metadata": {},
     "output_type": "display_data"
    }
   ],
   "source": [
    "fig, ax = plt.subplots(figsize = (15,9))\n",
    "# drawing the bar chart\n",
    "ax.bar(x, y1,\n",
    "color = \"orange\", edgecolor = \"blue\", label = \"number of attrition\")\n",
    "ax.set_xticks(x, x, fontsize = 20, rotation = 45) # create a twin x so we have the right y axis\n",
    "ax1 = ax.twinx()\n",
    "# useing y2 the float to plot\n",
    "ax1.plot(x, y2,\n",
    "linewidth = 3, linestyle = \":\", color = \"magenta\", marker = 'o', markersize = 15, markerfacecolor = \"cyan\", label = \"Percentage of attrition\")\n",
    "# using y2 as value, y3 as ticks\n",
    "ax1.set_yticks(y2, y3, fontsize = 20)\n",
    "# plot the legend\n",
    "ax.legend(loc = \"upper left\", fontsize = 20) \n",
    "ax1.legend(loc = \"upper right\", fontsize = 20)\n",
    "\n",
    "plt.show()"
   ]
  },
  {
   "cell_type": "code",
   "execution_count": null,
   "id": "d235a4e3",
   "metadata": {},
   "outputs": [],
   "source": []
  },
  {
   "cell_type": "markdown",
   "id": "c606ee47",
   "metadata": {},
   "source": [
    "### Creating similar Combo chart Regarding Income Category."
   ]
  },
  {
   "cell_type": "code",
   "execution_count": 41,
   "id": "91baae06",
   "metadata": {},
   "outputs": [
    {
     "data": {
      "text/plain": [
       "0       $60K - $80K\n",
       "1    Less than $40K\n",
       "2      $80K - $120K\n",
       "3    Less than $40K\n",
       "4       $60K - $80K\n",
       "Name: Income_Category, dtype: object"
      ]
     },
     "execution_count": 41,
     "metadata": {},
     "output_type": "execute_result"
    }
   ],
   "source": [
    "df.Income_Category.head()"
   ]
  },
  {
   "cell_type": "markdown",
   "id": "81926aa7",
   "metadata": {},
   "source": [
    "### Step 1: Creating table with information we need."
   ]
  },
  {
   "cell_type": "code",
   "execution_count": 42,
   "id": "99708ac9",
   "metadata": {},
   "outputs": [],
   "source": [
    "df_Income = df[[\"Attrition_Flag\", \"Income_Category\"]].copy()"
   ]
  },
  {
   "cell_type": "code",
   "execution_count": 43,
   "id": "4336b6a0",
   "metadata": {},
   "outputs": [
    {
     "data": {
      "text/html": [
       "<div>\n",
       "<style scoped>\n",
       "    .dataframe tbody tr th:only-of-type {\n",
       "        vertical-align: middle;\n",
       "    }\n",
       "\n",
       "    .dataframe tbody tr th {\n",
       "        vertical-align: top;\n",
       "    }\n",
       "\n",
       "    .dataframe thead th {\n",
       "        text-align: right;\n",
       "    }\n",
       "</style>\n",
       "<table border=\"1\" class=\"dataframe\">\n",
       "  <thead>\n",
       "    <tr style=\"text-align: right;\">\n",
       "      <th></th>\n",
       "      <th>Attrition_Flag</th>\n",
       "      <th>Income_Category</th>\n",
       "    </tr>\n",
       "  </thead>\n",
       "  <tbody>\n",
       "    <tr>\n",
       "      <th>0</th>\n",
       "      <td>Existing Customer</td>\n",
       "      <td>$60K - $80K</td>\n",
       "    </tr>\n",
       "    <tr>\n",
       "      <th>1</th>\n",
       "      <td>Existing Customer</td>\n",
       "      <td>Less than $40K</td>\n",
       "    </tr>\n",
       "    <tr>\n",
       "      <th>2</th>\n",
       "      <td>Existing Customer</td>\n",
       "      <td>$80K - $120K</td>\n",
       "    </tr>\n",
       "    <tr>\n",
       "      <th>3</th>\n",
       "      <td>Existing Customer</td>\n",
       "      <td>Less than $40K</td>\n",
       "    </tr>\n",
       "    <tr>\n",
       "      <th>4</th>\n",
       "      <td>Existing Customer</td>\n",
       "      <td>$60K - $80K</td>\n",
       "    </tr>\n",
       "  </tbody>\n",
       "</table>\n",
       "</div>"
      ],
      "text/plain": [
       "      Attrition_Flag Income_Category\n",
       "0  Existing Customer     $60K - $80K\n",
       "1  Existing Customer  Less than $40K\n",
       "2  Existing Customer    $80K - $120K\n",
       "3  Existing Customer  Less than $40K\n",
       "4  Existing Customer     $60K - $80K"
      ]
     },
     "execution_count": 43,
     "metadata": {},
     "output_type": "execute_result"
    }
   ],
   "source": [
    "df_Income.head()"
   ]
  },
  {
   "cell_type": "markdown",
   "id": "cf2668d7",
   "metadata": {},
   "source": [
    "### Step 2 : Assigning binary number to Attrition Flag"
   ]
  },
  {
   "cell_type": "code",
   "execution_count": 45,
   "id": "4e12867f",
   "metadata": {},
   "outputs": [],
   "source": [
    " df_Income[\"Attrition_Count\"] = df_Income[\"Attrition_Flag\"].map({\"Existing Customer\": 0, \"Attrited Customer\": 1})"
   ]
  },
  {
   "cell_type": "code",
   "execution_count": 78,
   "id": "5c5169cf",
   "metadata": {},
   "outputs": [
    {
     "data": {
      "text/html": [
       "<div>\n",
       "<style scoped>\n",
       "    .dataframe tbody tr th:only-of-type {\n",
       "        vertical-align: middle;\n",
       "    }\n",
       "\n",
       "    .dataframe tbody tr th {\n",
       "        vertical-align: top;\n",
       "    }\n",
       "\n",
       "    .dataframe thead th {\n",
       "        text-align: right;\n",
       "    }\n",
       "</style>\n",
       "<table border=\"1\" class=\"dataframe\">\n",
       "  <thead>\n",
       "    <tr style=\"text-align: right;\">\n",
       "      <th></th>\n",
       "      <th>Attrition_Flag</th>\n",
       "      <th>Income_Category</th>\n",
       "      <th>Attrition_Count</th>\n",
       "    </tr>\n",
       "  </thead>\n",
       "  <tbody>\n",
       "    <tr>\n",
       "      <th>0</th>\n",
       "      <td>Existing Customer</td>\n",
       "      <td>$60K - $80K</td>\n",
       "      <td>0</td>\n",
       "    </tr>\n",
       "    <tr>\n",
       "      <th>1</th>\n",
       "      <td>Existing Customer</td>\n",
       "      <td>Less than $40K</td>\n",
       "      <td>0</td>\n",
       "    </tr>\n",
       "    <tr>\n",
       "      <th>2</th>\n",
       "      <td>Existing Customer</td>\n",
       "      <td>$80K - $120K</td>\n",
       "      <td>0</td>\n",
       "    </tr>\n",
       "    <tr>\n",
       "      <th>3</th>\n",
       "      <td>Existing Customer</td>\n",
       "      <td>Less than $40K</td>\n",
       "      <td>0</td>\n",
       "    </tr>\n",
       "    <tr>\n",
       "      <th>4</th>\n",
       "      <td>Existing Customer</td>\n",
       "      <td>$60K - $80K</td>\n",
       "      <td>0</td>\n",
       "    </tr>\n",
       "  </tbody>\n",
       "</table>\n",
       "</div>"
      ],
      "text/plain": [
       "      Attrition_Flag Income_Category  Attrition_Count\n",
       "0  Existing Customer     $60K - $80K                0\n",
       "1  Existing Customer  Less than $40K                0\n",
       "2  Existing Customer    $80K - $120K                0\n",
       "3  Existing Customer  Less than $40K                0\n",
       "4  Existing Customer     $60K - $80K                0"
      ]
     },
     "execution_count": 78,
     "metadata": {},
     "output_type": "execute_result"
    }
   ],
   "source": [
    "df_Income.head()"
   ]
  },
  {
   "cell_type": "markdown",
   "id": "d6688734",
   "metadata": {},
   "source": [
    "### Step 3: Using group by and sum/count function."
   ]
  },
  {
   "cell_type": "code",
   "execution_count": 79,
   "id": "607d1712",
   "metadata": {},
   "outputs": [
    {
     "name": "stderr",
     "output_type": "stream",
     "text": [
      "/var/folders/_6/tsvwl7mj4wq1y64czljdw6bm0000gn/T/ipykernel_69113/2470181616.py:1: FutureWarning:\n",
      "\n",
      "The default value of numeric_only in DataFrameGroupBy.sum is deprecated. In a future version, numeric_only will default to False. Either specify numeric_only or select only columns which should be valid for the function.\n",
      "\n"
     ]
    }
   ],
   "source": [
    "df_attrition_number = df_Income.groupby(\"Income_Category\").sum()"
   ]
  },
  {
   "cell_type": "code",
   "execution_count": 80,
   "id": "8790e382",
   "metadata": {},
   "outputs": [],
   "source": [
    "df_total_number = df_Income.groupby(\"Income_Category\").count()"
   ]
  },
  {
   "cell_type": "code",
   "execution_count": 81,
   "id": "bd9cb281",
   "metadata": {},
   "outputs": [
    {
     "data": {
      "text/html": [
       "<div>\n",
       "<style scoped>\n",
       "    .dataframe tbody tr th:only-of-type {\n",
       "        vertical-align: middle;\n",
       "    }\n",
       "\n",
       "    .dataframe tbody tr th {\n",
       "        vertical-align: top;\n",
       "    }\n",
       "\n",
       "    .dataframe thead th {\n",
       "        text-align: right;\n",
       "    }\n",
       "</style>\n",
       "<table border=\"1\" class=\"dataframe\">\n",
       "  <thead>\n",
       "    <tr style=\"text-align: right;\">\n",
       "      <th></th>\n",
       "      <th>Attrition_Count</th>\n",
       "    </tr>\n",
       "    <tr>\n",
       "      <th>Income_Category</th>\n",
       "      <th></th>\n",
       "    </tr>\n",
       "  </thead>\n",
       "  <tbody>\n",
       "    <tr>\n",
       "      <th>$120K +</th>\n",
       "      <td>126</td>\n",
       "    </tr>\n",
       "    <tr>\n",
       "      <th>$40K - $60K</th>\n",
       "      <td>271</td>\n",
       "    </tr>\n",
       "    <tr>\n",
       "      <th>$60K - $80K</th>\n",
       "      <td>189</td>\n",
       "    </tr>\n",
       "    <tr>\n",
       "      <th>$80K - $120K</th>\n",
       "      <td>242</td>\n",
       "    </tr>\n",
       "    <tr>\n",
       "      <th>Less than $40K</th>\n",
       "      <td>612</td>\n",
       "    </tr>\n",
       "    <tr>\n",
       "      <th>Unknown</th>\n",
       "      <td>187</td>\n",
       "    </tr>\n",
       "  </tbody>\n",
       "</table>\n",
       "</div>"
      ],
      "text/plain": [
       "                 Attrition_Count\n",
       "Income_Category                 \n",
       "$120K +                      126\n",
       "$40K - $60K                  271\n",
       "$60K - $80K                  189\n",
       "$80K - $120K                 242\n",
       "Less than $40K               612\n",
       "Unknown                      187"
      ]
     },
     "execution_count": 81,
     "metadata": {},
     "output_type": "execute_result"
    }
   ],
   "source": [
    "df_attrition_number"
   ]
  },
  {
   "cell_type": "markdown",
   "id": "26ed8006",
   "metadata": {},
   "source": [
    "### Step 4: Calculating the rate/percentage"
   ]
  },
  {
   "cell_type": "code",
   "execution_count": 82,
   "id": "76299f4e",
   "metadata": {},
   "outputs": [],
   "source": [
    "df_attrition_Income = df_attrition_number[\"Attrition_Count\"] / df_total_number[\"Attrition_Flag\"]"
   ]
  },
  {
   "cell_type": "code",
   "execution_count": 83,
   "id": "271d415e",
   "metadata": {},
   "outputs": [
    {
     "data": {
      "text/plain": [
       "Income_Category\n",
       "$120K +           0.173315\n",
       "$40K - $60K       0.151397\n",
       "$60K - $80K       0.134807\n",
       "$80K - $120K      0.157655\n",
       "Less than $40K    0.171862\n",
       "Unknown           0.168165\n",
       "dtype: float64"
      ]
     },
     "execution_count": 83,
     "metadata": {},
     "output_type": "execute_result"
    }
   ],
   "source": [
    "df_attrition_Income"
   ]
  },
  {
   "cell_type": "code",
   "execution_count": 84,
   "id": "5acb41fd",
   "metadata": {},
   "outputs": [],
   "source": [
    "df_Income_final = pd.concat([df_total_number,df_attrition_Income], axis = 1)"
   ]
  },
  {
   "cell_type": "code",
   "execution_count": 85,
   "id": "b9aadfae",
   "metadata": {},
   "outputs": [
    {
     "data": {
      "text/html": [
       "<div>\n",
       "<style scoped>\n",
       "    .dataframe tbody tr th:only-of-type {\n",
       "        vertical-align: middle;\n",
       "    }\n",
       "\n",
       "    .dataframe tbody tr th {\n",
       "        vertical-align: top;\n",
       "    }\n",
       "\n",
       "    .dataframe thead th {\n",
       "        text-align: right;\n",
       "    }\n",
       "</style>\n",
       "<table border=\"1\" class=\"dataframe\">\n",
       "  <thead>\n",
       "    <tr style=\"text-align: right;\">\n",
       "      <th></th>\n",
       "      <th>Attrition_Flag</th>\n",
       "      <th>Attrition_Count</th>\n",
       "      <th>0</th>\n",
       "    </tr>\n",
       "    <tr>\n",
       "      <th>Income_Category</th>\n",
       "      <th></th>\n",
       "      <th></th>\n",
       "      <th></th>\n",
       "    </tr>\n",
       "  </thead>\n",
       "  <tbody>\n",
       "    <tr>\n",
       "      <th>$120K +</th>\n",
       "      <td>727</td>\n",
       "      <td>727</td>\n",
       "      <td>0.173315</td>\n",
       "    </tr>\n",
       "    <tr>\n",
       "      <th>$40K - $60K</th>\n",
       "      <td>1790</td>\n",
       "      <td>1790</td>\n",
       "      <td>0.151397</td>\n",
       "    </tr>\n",
       "    <tr>\n",
       "      <th>$60K - $80K</th>\n",
       "      <td>1402</td>\n",
       "      <td>1402</td>\n",
       "      <td>0.134807</td>\n",
       "    </tr>\n",
       "    <tr>\n",
       "      <th>$80K - $120K</th>\n",
       "      <td>1535</td>\n",
       "      <td>1535</td>\n",
       "      <td>0.157655</td>\n",
       "    </tr>\n",
       "    <tr>\n",
       "      <th>Less than $40K</th>\n",
       "      <td>3561</td>\n",
       "      <td>3561</td>\n",
       "      <td>0.171862</td>\n",
       "    </tr>\n",
       "    <tr>\n",
       "      <th>Unknown</th>\n",
       "      <td>1112</td>\n",
       "      <td>1112</td>\n",
       "      <td>0.168165</td>\n",
       "    </tr>\n",
       "  </tbody>\n",
       "</table>\n",
       "</div>"
      ],
      "text/plain": [
       "                 Attrition_Flag  Attrition_Count         0\n",
       "Income_Category                                           \n",
       "$120K +                     727              727  0.173315\n",
       "$40K - $60K                1790             1790  0.151397\n",
       "$60K - $80K                1402             1402  0.134807\n",
       "$80K - $120K               1535             1535  0.157655\n",
       "Less than $40K             3561             3561  0.171862\n",
       "Unknown                    1112             1112  0.168165"
      ]
     },
     "execution_count": 85,
     "metadata": {},
     "output_type": "execute_result"
    }
   ],
   "source": [
    "df_Income_final"
   ]
  },
  {
   "cell_type": "code",
   "execution_count": 86,
   "id": "d7013bd9",
   "metadata": {},
   "outputs": [],
   "source": [
    "df_Income_final.rename({0: \"Attrition_float\"}, axis = 1,inplace = True)"
   ]
  },
  {
   "cell_type": "code",
   "execution_count": 87,
   "id": "708a0c2b",
   "metadata": {},
   "outputs": [],
   "source": [
    "df_Income_final[\"Attrition_pct\"] = df_Income_final[\"Attrition_float\"].map(\"{:.2%}\".format)"
   ]
  },
  {
   "cell_type": "code",
   "execution_count": 88,
   "id": "622e6439",
   "metadata": {},
   "outputs": [
    {
     "data": {
      "text/html": [
       "<div>\n",
       "<style scoped>\n",
       "    .dataframe tbody tr th:only-of-type {\n",
       "        vertical-align: middle;\n",
       "    }\n",
       "\n",
       "    .dataframe tbody tr th {\n",
       "        vertical-align: top;\n",
       "    }\n",
       "\n",
       "    .dataframe thead th {\n",
       "        text-align: right;\n",
       "    }\n",
       "</style>\n",
       "<table border=\"1\" class=\"dataframe\">\n",
       "  <thead>\n",
       "    <tr style=\"text-align: right;\">\n",
       "      <th></th>\n",
       "      <th>Attrition_Flag</th>\n",
       "      <th>Attrition_Count</th>\n",
       "      <th>Attrition_float</th>\n",
       "      <th>Attrition_pct</th>\n",
       "    </tr>\n",
       "    <tr>\n",
       "      <th>Income_Category</th>\n",
       "      <th></th>\n",
       "      <th></th>\n",
       "      <th></th>\n",
       "      <th></th>\n",
       "    </tr>\n",
       "  </thead>\n",
       "  <tbody>\n",
       "    <tr>\n",
       "      <th>$120K +</th>\n",
       "      <td>727</td>\n",
       "      <td>727</td>\n",
       "      <td>0.173315</td>\n",
       "      <td>17.33%</td>\n",
       "    </tr>\n",
       "    <tr>\n",
       "      <th>$40K - $60K</th>\n",
       "      <td>1790</td>\n",
       "      <td>1790</td>\n",
       "      <td>0.151397</td>\n",
       "      <td>15.14%</td>\n",
       "    </tr>\n",
       "    <tr>\n",
       "      <th>$60K - $80K</th>\n",
       "      <td>1402</td>\n",
       "      <td>1402</td>\n",
       "      <td>0.134807</td>\n",
       "      <td>13.48%</td>\n",
       "    </tr>\n",
       "    <tr>\n",
       "      <th>$80K - $120K</th>\n",
       "      <td>1535</td>\n",
       "      <td>1535</td>\n",
       "      <td>0.157655</td>\n",
       "      <td>15.77%</td>\n",
       "    </tr>\n",
       "    <tr>\n",
       "      <th>Less than $40K</th>\n",
       "      <td>3561</td>\n",
       "      <td>3561</td>\n",
       "      <td>0.171862</td>\n",
       "      <td>17.19%</td>\n",
       "    </tr>\n",
       "    <tr>\n",
       "      <th>Unknown</th>\n",
       "      <td>1112</td>\n",
       "      <td>1112</td>\n",
       "      <td>0.168165</td>\n",
       "      <td>16.82%</td>\n",
       "    </tr>\n",
       "  </tbody>\n",
       "</table>\n",
       "</div>"
      ],
      "text/plain": [
       "                 Attrition_Flag  Attrition_Count  Attrition_float  \\\n",
       "Income_Category                                                     \n",
       "$120K +                     727              727         0.173315   \n",
       "$40K - $60K                1790             1790         0.151397   \n",
       "$60K - $80K                1402             1402         0.134807   \n",
       "$80K - $120K               1535             1535         0.157655   \n",
       "Less than $40K             3561             3561         0.171862   \n",
       "Unknown                    1112             1112         0.168165   \n",
       "\n",
       "                Attrition_pct  \n",
       "Income_Category                \n",
       "$120K +                17.33%  \n",
       "$40K - $60K            15.14%  \n",
       "$60K - $80K            13.48%  \n",
       "$80K - $120K           15.77%  \n",
       "Less than $40K         17.19%  \n",
       "Unknown                16.82%  "
      ]
     },
     "execution_count": 88,
     "metadata": {},
     "output_type": "execute_result"
    }
   ],
   "source": [
    "df_Income_final"
   ]
  },
  {
   "cell_type": "markdown",
   "id": "2a9993a7",
   "metadata": {},
   "source": [
    "### Step 5: Plotting the Combo chart form the Data Frame Created."
   ]
  },
  {
   "cell_type": "code",
   "execution_count": 90,
   "id": "7e5ac7a4",
   "metadata": {},
   "outputs": [],
   "source": [
    "x = df_Income_final.index\n",
    "y1 = df_Income_final[\"Attrition_Count\"] \n",
    "y2 = df_Income_final[\"Attrition_float\"] \n",
    "y3 = df_Income_final[\"Attrition_pct\"]\n"
   ]
  },
  {
   "cell_type": "code",
   "execution_count": 92,
   "id": "529d7882",
   "metadata": {},
   "outputs": [
    {
     "data": {
      "image/png": "[encoded data removed]",
      "text/plain": [
       "<Figure size 1500x900 with 2 Axes>"
      ]
     },
     "metadata": {},
     "output_type": "display_data"
    }
   ],
   "source": [
    "fig, ax = plt.subplots(figsize = (15,9))\n",
    "# drawing the bar chart\n",
    "ax.bar(x, y1,\n",
    "color = \"orange\", edgecolor = \"blue\", label = \"number of attrition\")\n",
    "ax.set_xticks(x, x, fontsize = 20, rotation = 45) # create a twin x so we have the right y axis\n",
    "ax1 = ax.twinx()\n",
    "# using y2 the float to plot\n",
    "ax1.plot(x, y2,\n",
    "linewidth = 3, linestyle = \":\", color = \"magenta\", marker = 'o', markersize = 15, markerfacecolor = \"cyan\", label = \"Percentage of attrition\")\n",
    "# using y2 as value, y3 as ticks\n",
    "ax1.set_yticks(y2, y3, fontsize = 20)\n",
    "# plot the legend\n",
    "ax.legend(loc = \"upper left\", fontsize = 20) \n",
    "ax1.legend(loc = \"upper right\", fontsize = 20)\n",
    "plt.show()"
   ]
  },
  {
   "cell_type": "code",
   "execution_count": null,
   "id": "29d2d999",
   "metadata": {},
   "outputs": [],
   "source": []
  },
  {
   "cell_type": "markdown",
   "id": "423d34be",
   "metadata": {},
   "source": [
    "### Combo chart Regarding Attrition Percent of Marital Status."
   ]
  },
  {
   "cell_type": "markdown",
   "id": "54a1a7de",
   "metadata": {},
   "source": [
    "### Step 1: Creating table with information we need."
   ]
  },
  {
   "cell_type": "code",
   "execution_count": 99,
   "id": "58f36ee5",
   "metadata": {},
   "outputs": [],
   "source": [
    "df_Marital_Status = df[[\"Attrition_Flag\", \"Marital_Status\"]].copy()"
   ]
  },
  {
   "cell_type": "code",
   "execution_count": 100,
   "id": "9533c64c",
   "metadata": {},
   "outputs": [
    {
     "data": {
      "text/html": [
       "<div>\n",
       "<style scoped>\n",
       "    .dataframe tbody tr th:only-of-type {\n",
       "        vertical-align: middle;\n",
       "    }\n",
       "\n",
       "    .dataframe tbody tr th {\n",
       "        vertical-align: top;\n",
       "    }\n",
       "\n",
       "    .dataframe thead th {\n",
       "        text-align: right;\n",
       "    }\n",
       "</style>\n",
       "<table border=\"1\" class=\"dataframe\">\n",
       "  <thead>\n",
       "    <tr style=\"text-align: right;\">\n",
       "      <th></th>\n",
       "      <th>Attrition_Flag</th>\n",
       "      <th>Marital_Status</th>\n",
       "    </tr>\n",
       "  </thead>\n",
       "  <tbody>\n",
       "    <tr>\n",
       "      <th>0</th>\n",
       "      <td>Existing Customer</td>\n",
       "      <td>Married</td>\n",
       "    </tr>\n",
       "    <tr>\n",
       "      <th>1</th>\n",
       "      <td>Existing Customer</td>\n",
       "      <td>Single</td>\n",
       "    </tr>\n",
       "    <tr>\n",
       "      <th>2</th>\n",
       "      <td>Existing Customer</td>\n",
       "      <td>Married</td>\n",
       "    </tr>\n",
       "    <tr>\n",
       "      <th>3</th>\n",
       "      <td>Existing Customer</td>\n",
       "      <td>Unknown</td>\n",
       "    </tr>\n",
       "    <tr>\n",
       "      <th>4</th>\n",
       "      <td>Existing Customer</td>\n",
       "      <td>Married</td>\n",
       "    </tr>\n",
       "  </tbody>\n",
       "</table>\n",
       "</div>"
      ],
      "text/plain": [
       "      Attrition_Flag Marital_Status\n",
       "0  Existing Customer        Married\n",
       "1  Existing Customer         Single\n",
       "2  Existing Customer        Married\n",
       "3  Existing Customer        Unknown\n",
       "4  Existing Customer        Married"
      ]
     },
     "execution_count": 100,
     "metadata": {},
     "output_type": "execute_result"
    }
   ],
   "source": [
    "df_Marital_Status.head()"
   ]
  },
  {
   "cell_type": "markdown",
   "id": "6010fe13",
   "metadata": {},
   "source": [
    "### Step 2 : Assigning binary number to Attrition Flag"
   ]
  },
  {
   "cell_type": "code",
   "execution_count": 101,
   "id": "225a0ad9",
   "metadata": {},
   "outputs": [],
   "source": [
    " df_Marital_Status[\"Attrition_Count\"] = df_Marital_Status[\"Attrition_Flag\"].map({\"Existing Customer\": 0, \"Attrited Customer\": 1})"
   ]
  },
  {
   "cell_type": "markdown",
   "id": "5fb34030",
   "metadata": {},
   "source": [
    "### Step 3: Using group by and sum/count function."
   ]
  },
  {
   "cell_type": "code",
   "execution_count": 103,
   "id": "9a31011b",
   "metadata": {},
   "outputs": [
    {
     "name": "stderr",
     "output_type": "stream",
     "text": [
      "/var/folders/_6/tsvwl7mj4wq1y64czljdw6bm0000gn/T/ipykernel_69113/3119933910.py:1: FutureWarning:\n",
      "\n",
      "The default value of numeric_only in DataFrameGroupBy.sum is deprecated. In a future version, numeric_only will default to False. Either specify numeric_only or select only columns which should be valid for the function.\n",
      "\n"
     ]
    }
   ],
   "source": [
    "df_attrition_marital = df_Marital_Status.groupby(\"Marital_Status\").sum()"
   ]
  },
  {
   "cell_type": "code",
   "execution_count": 104,
   "id": "033c8153",
   "metadata": {},
   "outputs": [],
   "source": [
    "df_total_marital = df_Marital_Status.groupby(\"Marital_Status\").count()"
   ]
  },
  {
   "cell_type": "code",
   "execution_count": 108,
   "id": "63dacdaa",
   "metadata": {},
   "outputs": [
    {
     "data": {
      "text/html": [
       "<div>\n",
       "<style scoped>\n",
       "    .dataframe tbody tr th:only-of-type {\n",
       "        vertical-align: middle;\n",
       "    }\n",
       "\n",
       "    .dataframe tbody tr th {\n",
       "        vertical-align: top;\n",
       "    }\n",
       "\n",
       "    .dataframe thead th {\n",
       "        text-align: right;\n",
       "    }\n",
       "</style>\n",
       "<table border=\"1\" class=\"dataframe\">\n",
       "  <thead>\n",
       "    <tr style=\"text-align: right;\">\n",
       "      <th></th>\n",
       "      <th>Attrition_Flag</th>\n",
       "      <th>Attrition_Count</th>\n",
       "    </tr>\n",
       "    <tr>\n",
       "      <th>Marital_Status</th>\n",
       "      <th></th>\n",
       "      <th></th>\n",
       "    </tr>\n",
       "  </thead>\n",
       "  <tbody>\n",
       "    <tr>\n",
       "      <th>Divorced</th>\n",
       "      <td>748</td>\n",
       "      <td>748</td>\n",
       "    </tr>\n",
       "    <tr>\n",
       "      <th>Married</th>\n",
       "      <td>4687</td>\n",
       "      <td>4687</td>\n",
       "    </tr>\n",
       "    <tr>\n",
       "      <th>Single</th>\n",
       "      <td>3943</td>\n",
       "      <td>3943</td>\n",
       "    </tr>\n",
       "    <tr>\n",
       "      <th>Unknown</th>\n",
       "      <td>749</td>\n",
       "      <td>749</td>\n",
       "    </tr>\n",
       "  </tbody>\n",
       "</table>\n",
       "</div>"
      ],
      "text/plain": [
       "                Attrition_Flag  Attrition_Count\n",
       "Marital_Status                                 \n",
       "Divorced                   748              748\n",
       "Married                   4687             4687\n",
       "Single                    3943             3943\n",
       "Unknown                    749              749"
      ]
     },
     "execution_count": 108,
     "metadata": {},
     "output_type": "execute_result"
    }
   ],
   "source": [
    "df_total_marital"
   ]
  },
  {
   "cell_type": "markdown",
   "id": "d643f7cf",
   "metadata": {},
   "source": [
    "### Step 4: Calculating the rate/percentage"
   ]
  },
  {
   "cell_type": "code",
   "execution_count": 110,
   "id": "6058dfcf",
   "metadata": {},
   "outputs": [],
   "source": [
    "df_marital_rate = df_attrition_marital[\"Attrition_Count\"] / df_total_marital[\"Attrition_Flag\"]"
   ]
  },
  {
   "cell_type": "code",
   "execution_count": 111,
   "id": "73102dd6",
   "metadata": {},
   "outputs": [
    {
     "data": {
      "text/plain": [
       "Marital_Status\n",
       "Divorced    0.161765\n",
       "Married     0.151269\n",
       "Single      0.169414\n",
       "Unknown     0.172230\n",
       "dtype: float64"
      ]
     },
     "execution_count": 111,
     "metadata": {},
     "output_type": "execute_result"
    }
   ],
   "source": [
    "df_marital_rate "
   ]
  },
  {
   "cell_type": "code",
   "execution_count": 112,
   "id": "fa5f4c6b",
   "metadata": {},
   "outputs": [],
   "source": [
    "df_Marital_final = pd.concat([df_total_marital,df_marital_rate], axis = 1)"
   ]
  },
  {
   "cell_type": "code",
   "execution_count": 113,
   "id": "00d7ea8a",
   "metadata": {},
   "outputs": [
    {
     "data": {
      "text/html": [
       "<div>\n",
       "<style scoped>\n",
       "    .dataframe tbody tr th:only-of-type {\n",
       "        vertical-align: middle;\n",
       "    }\n",
       "\n",
       "    .dataframe tbody tr th {\n",
       "        vertical-align: top;\n",
       "    }\n",
       "\n",
       "    .dataframe thead th {\n",
       "        text-align: right;\n",
       "    }\n",
       "</style>\n",
       "<table border=\"1\" class=\"dataframe\">\n",
       "  <thead>\n",
       "    <tr style=\"text-align: right;\">\n",
       "      <th></th>\n",
       "      <th>Attrition_Flag</th>\n",
       "      <th>Attrition_Count</th>\n",
       "      <th>0</th>\n",
       "    </tr>\n",
       "    <tr>\n",
       "      <th>Marital_Status</th>\n",
       "      <th></th>\n",
       "      <th></th>\n",
       "      <th></th>\n",
       "    </tr>\n",
       "  </thead>\n",
       "  <tbody>\n",
       "    <tr>\n",
       "      <th>Divorced</th>\n",
       "      <td>748</td>\n",
       "      <td>748</td>\n",
       "      <td>0.161765</td>\n",
       "    </tr>\n",
       "    <tr>\n",
       "      <th>Married</th>\n",
       "      <td>4687</td>\n",
       "      <td>4687</td>\n",
       "      <td>0.151269</td>\n",
       "    </tr>\n",
       "    <tr>\n",
       "      <th>Single</th>\n",
       "      <td>3943</td>\n",
       "      <td>3943</td>\n",
       "      <td>0.169414</td>\n",
       "    </tr>\n",
       "    <tr>\n",
       "      <th>Unknown</th>\n",
       "      <td>749</td>\n",
       "      <td>749</td>\n",
       "      <td>0.172230</td>\n",
       "    </tr>\n",
       "  </tbody>\n",
       "</table>\n",
       "</div>"
      ],
      "text/plain": [
       "                Attrition_Flag  Attrition_Count         0\n",
       "Marital_Status                                           \n",
       "Divorced                   748              748  0.161765\n",
       "Married                   4687             4687  0.151269\n",
       "Single                    3943             3943  0.169414\n",
       "Unknown                    749              749  0.172230"
      ]
     },
     "execution_count": 113,
     "metadata": {},
     "output_type": "execute_result"
    }
   ],
   "source": [
    "df_Marital_final"
   ]
  },
  {
   "cell_type": "code",
   "execution_count": 114,
   "id": "3ef5d649",
   "metadata": {},
   "outputs": [],
   "source": [
    "df_Marital_final.rename({0: \"Attrition_float\"}, axis = 1,inplace = True)"
   ]
  },
  {
   "cell_type": "code",
   "execution_count": 115,
   "id": "d1afc435",
   "metadata": {},
   "outputs": [],
   "source": [
    "df_Marital_final[\"Attrition_pct\"] = df_Marital_final[\"Attrition_float\"].map(\"{:.2%}\".format)"
   ]
  },
  {
   "cell_type": "code",
   "execution_count": 116,
   "id": "6eabe0a7",
   "metadata": {},
   "outputs": [
    {
     "data": {
      "text/html": [
       "<div>\n",
       "<style scoped>\n",
       "    .dataframe tbody tr th:only-of-type {\n",
       "        vertical-align: middle;\n",
       "    }\n",
       "\n",
       "    .dataframe tbody tr th {\n",
       "        vertical-align: top;\n",
       "    }\n",
       "\n",
       "    .dataframe thead th {\n",
       "        text-align: right;\n",
       "    }\n",
       "</style>\n",
       "<table border=\"1\" class=\"dataframe\">\n",
       "  <thead>\n",
       "    <tr style=\"text-align: right;\">\n",
       "      <th></th>\n",
       "      <th>Attrition_Flag</th>\n",
       "      <th>Attrition_Count</th>\n",
       "      <th>Attrition_float</th>\n",
       "      <th>Attrition_pct</th>\n",
       "    </tr>\n",
       "    <tr>\n",
       "      <th>Marital_Status</th>\n",
       "      <th></th>\n",
       "      <th></th>\n",
       "      <th></th>\n",
       "      <th></th>\n",
       "    </tr>\n",
       "  </thead>\n",
       "  <tbody>\n",
       "    <tr>\n",
       "      <th>Divorced</th>\n",
       "      <td>748</td>\n",
       "      <td>748</td>\n",
       "      <td>0.161765</td>\n",
       "      <td>16.18%</td>\n",
       "    </tr>\n",
       "    <tr>\n",
       "      <th>Married</th>\n",
       "      <td>4687</td>\n",
       "      <td>4687</td>\n",
       "      <td>0.151269</td>\n",
       "      <td>15.13%</td>\n",
       "    </tr>\n",
       "    <tr>\n",
       "      <th>Single</th>\n",
       "      <td>3943</td>\n",
       "      <td>3943</td>\n",
       "      <td>0.169414</td>\n",
       "      <td>16.94%</td>\n",
       "    </tr>\n",
       "    <tr>\n",
       "      <th>Unknown</th>\n",
       "      <td>749</td>\n",
       "      <td>749</td>\n",
       "      <td>0.172230</td>\n",
       "      <td>17.22%</td>\n",
       "    </tr>\n",
       "  </tbody>\n",
       "</table>\n",
       "</div>"
      ],
      "text/plain": [
       "                Attrition_Flag  Attrition_Count  Attrition_float Attrition_pct\n",
       "Marital_Status                                                                \n",
       "Divorced                   748              748         0.161765        16.18%\n",
       "Married                   4687             4687         0.151269        15.13%\n",
       "Single                    3943             3943         0.169414        16.94%\n",
       "Unknown                    749              749         0.172230        17.22%"
      ]
     },
     "execution_count": 116,
     "metadata": {},
     "output_type": "execute_result"
    }
   ],
   "source": [
    "df_Marital_final"
   ]
  },
  {
   "cell_type": "markdown",
   "id": "02a758ec",
   "metadata": {},
   "source": [
    "### Step 5: Plotting the Combo chart form the Data Frame Created."
   ]
  },
  {
   "cell_type": "code",
   "execution_count": 120,
   "id": "21f8723e",
   "metadata": {},
   "outputs": [],
   "source": [
    "x = df_Marital_final.index\n",
    "y1 = df_Marital_final[\"Attrition_Count\"] \n",
    "y2 = df_Marital_final[\"Attrition_float\"] \n",
    "y3 = df_Marital_final[\"Attrition_pct\"]"
   ]
  },
  {
   "cell_type": "code",
   "execution_count": 121,
   "id": "3e66c5dd",
   "metadata": {},
   "outputs": [
    {
     "data": {
      "image/png": "[encoded data removed]",
      "text/plain": [
       "<Figure size 1500x900 with 2 Axes>"
      ]
     },
     "metadata": {},
     "output_type": "display_data"
    }
   ],
   "source": [
    "fig, ax = plt.subplots(figsize = (15,9))\n",
    "# drawing the bar chart\n",
    "ax.bar(x, y1,\n",
    "color = \"orange\", edgecolor = \"blue\", label = \"number of attrition\")\n",
    "ax.set_xticks(x, x, fontsize = 20, rotation = 45) # create a twin x so we have the right y axis\n",
    "ax1 = ax.twinx()\n",
    "# using y2 the float to plot\n",
    "ax1.plot(x, y2,\n",
    "linewidth = 3, linestyle = \":\", color = \"magenta\", marker = 'o', markersize = 15, markerfacecolor = \"cyan\", label = \"Percentage of attrition\")\n",
    "# using y2 as value, y3 as ticks\n",
    "ax1.set_yticks(y2, y3, fontsize = 20)\n",
    "# plot the legend\n",
    "ax.legend(loc = \"upper left\", fontsize = 20) \n",
    "ax1.legend(loc = \"upper right\", fontsize = 20)\n",
    "plt.show()"
   ]
  },
  {
   "cell_type": "code",
   "execution_count": null,
   "id": "87e457c0",
   "metadata": {},
   "outputs": [],
   "source": []
  },
  {
   "cell_type": "markdown",
   "id": "891955fb",
   "metadata": {},
   "source": [
    "### Creating Combo Chart Regarding Percent attrition of Dependent Count"
   ]
  },
  {
   "cell_type": "markdown",
   "id": "a73f07dd",
   "metadata": {},
   "source": [
    "### Step 1: Creating table with information we need."
   ]
  },
  {
   "cell_type": "code",
   "execution_count": 125,
   "id": "bcef80e0",
   "metadata": {},
   "outputs": [],
   "source": [
    "df_dependent = df[[\"Attrition_Flag\", \"Dependent_count\"]]"
   ]
  },
  {
   "cell_type": "markdown",
   "id": "fb12f92f",
   "metadata": {},
   "source": [
    "### Step 2 : Assigning binary number to Attrition Flag"
   ]
  },
  {
   "cell_type": "code",
   "execution_count": 151,
   "id": "531572b8",
   "metadata": {},
   "outputs": [
    {
     "name": "stderr",
     "output_type": "stream",
     "text": [
      "/var/folders/_6/tsvwl7mj4wq1y64czljdw6bm0000gn/T/ipykernel_69113/1999130281.py:1: SettingWithCopyWarning:\n",
      "\n",
      "\n",
      "A value is trying to be set on a copy of a slice from a DataFrame.\n",
      "Try using .loc[row_indexer,col_indexer] = value instead\n",
      "\n",
      "See the caveats in the documentation: https://pandas.pydata.org/pandas-docs/stable/user_guide/indexing.html#returning-a-view-versus-a-copy\n",
      "\n"
     ]
    }
   ],
   "source": [
    "df_dependent[\"Attrition_dependent_Count\"] = df_dependent[\"Attrition_Flag\"].map({\"Existing Customer\": 0, \"Attrited Customer\": 1})"
   ]
  },
  {
   "cell_type": "markdown",
   "id": "743b4561",
   "metadata": {},
   "source": [
    "### Step 3: Using group by and sum/count function."
   ]
  },
  {
   "cell_type": "code",
   "execution_count": 158,
   "id": "5298010d",
   "metadata": {},
   "outputs": [
    {
     "name": "stderr",
     "output_type": "stream",
     "text": [
      "/var/folders/_6/tsvwl7mj4wq1y64czljdw6bm0000gn/T/ipykernel_69113/2247624731.py:1: FutureWarning:\n",
      "\n",
      "The default value of numeric_only in DataFrameGroupBy.sum is deprecated. In a future version, numeric_only will default to False. Either specify numeric_only or select only columns which should be valid for the function.\n",
      "\n"
     ]
    }
   ],
   "source": [
    "df_dependent_sum = df_dependent.groupby(\"Dependent_count\").sum()"
   ]
  },
  {
   "cell_type": "code",
   "execution_count": 159,
   "id": "71a68a7d",
   "metadata": {},
   "outputs": [],
   "source": [
    "df_dependent_count = df_dependent.groupby(\"Dependent_count\").count()"
   ]
  },
  {
   "cell_type": "code",
   "execution_count": 168,
   "id": "118f2779",
   "metadata": {},
   "outputs": [
    {
     "data": {
      "text/html": [
       "<div>\n",
       "<style scoped>\n",
       "    .dataframe tbody tr th:only-of-type {\n",
       "        vertical-align: middle;\n",
       "    }\n",
       "\n",
       "    .dataframe tbody tr th {\n",
       "        vertical-align: top;\n",
       "    }\n",
       "\n",
       "    .dataframe thead th {\n",
       "        text-align: right;\n",
       "    }\n",
       "</style>\n",
       "<table border=\"1\" class=\"dataframe\">\n",
       "  <thead>\n",
       "    <tr style=\"text-align: right;\">\n",
       "      <th></th>\n",
       "      <th>Attrition_Flag</th>\n",
       "      <th>Attrition_Count</th>\n",
       "      <th>Attrition_dependent_Count</th>\n",
       "    </tr>\n",
       "    <tr>\n",
       "      <th>Dependent_count</th>\n",
       "      <th></th>\n",
       "      <th></th>\n",
       "      <th></th>\n",
       "    </tr>\n",
       "  </thead>\n",
       "  <tbody>\n",
       "    <tr>\n",
       "      <th>0</th>\n",
       "      <td>904</td>\n",
       "      <td>904</td>\n",
       "      <td>904</td>\n",
       "    </tr>\n",
       "    <tr>\n",
       "      <th>1</th>\n",
       "      <td>1838</td>\n",
       "      <td>1838</td>\n",
       "      <td>1838</td>\n",
       "    </tr>\n",
       "    <tr>\n",
       "      <th>2</th>\n",
       "      <td>2655</td>\n",
       "      <td>2655</td>\n",
       "      <td>2655</td>\n",
       "    </tr>\n",
       "    <tr>\n",
       "      <th>3</th>\n",
       "      <td>2732</td>\n",
       "      <td>2732</td>\n",
       "      <td>2732</td>\n",
       "    </tr>\n",
       "    <tr>\n",
       "      <th>4</th>\n",
       "      <td>1574</td>\n",
       "      <td>1574</td>\n",
       "      <td>1574</td>\n",
       "    </tr>\n",
       "    <tr>\n",
       "      <th>5</th>\n",
       "      <td>424</td>\n",
       "      <td>424</td>\n",
       "      <td>424</td>\n",
       "    </tr>\n",
       "  </tbody>\n",
       "</table>\n",
       "</div>"
      ],
      "text/plain": [
       "                 Attrition_Flag  Attrition_Count  Attrition_dependent_Count\n",
       "Dependent_count                                                            \n",
       "0                           904              904                        904\n",
       "1                          1838             1838                       1838\n",
       "2                          2655             2655                       2655\n",
       "3                          2732             2732                       2732\n",
       "4                          1574             1574                       1574\n",
       "5                           424              424                        424"
      ]
     },
     "execution_count": 168,
     "metadata": {},
     "output_type": "execute_result"
    }
   ],
   "source": [
    "df_dependent_count"
   ]
  },
  {
   "cell_type": "code",
   "execution_count": 212,
   "id": "a9117429",
   "metadata": {},
   "outputs": [
    {
     "data": {
      "text/html": [
       "<div>\n",
       "<style scoped>\n",
       "    .dataframe tbody tr th:only-of-type {\n",
       "        vertical-align: middle;\n",
       "    }\n",
       "\n",
       "    .dataframe tbody tr th {\n",
       "        vertical-align: top;\n",
       "    }\n",
       "\n",
       "    .dataframe thead th {\n",
       "        text-align: right;\n",
       "    }\n",
       "</style>\n",
       "<table border=\"1\" class=\"dataframe\">\n",
       "  <thead>\n",
       "    <tr style=\"text-align: right;\">\n",
       "      <th></th>\n",
       "      <th>Attrition_Count</th>\n",
       "      <th>Attrition_dependent_Count</th>\n",
       "    </tr>\n",
       "    <tr>\n",
       "      <th>Dependent_count</th>\n",
       "      <th></th>\n",
       "      <th></th>\n",
       "    </tr>\n",
       "  </thead>\n",
       "  <tbody>\n",
       "    <tr>\n",
       "      <th>0</th>\n",
       "      <td>135</td>\n",
       "      <td>135</td>\n",
       "    </tr>\n",
       "    <tr>\n",
       "      <th>1</th>\n",
       "      <td>269</td>\n",
       "      <td>269</td>\n",
       "    </tr>\n",
       "    <tr>\n",
       "      <th>2</th>\n",
       "      <td>417</td>\n",
       "      <td>417</td>\n",
       "    </tr>\n",
       "    <tr>\n",
       "      <th>3</th>\n",
       "      <td>482</td>\n",
       "      <td>482</td>\n",
       "    </tr>\n",
       "    <tr>\n",
       "      <th>4</th>\n",
       "      <td>260</td>\n",
       "      <td>260</td>\n",
       "    </tr>\n",
       "    <tr>\n",
       "      <th>5</th>\n",
       "      <td>64</td>\n",
       "      <td>64</td>\n",
       "    </tr>\n",
       "  </tbody>\n",
       "</table>\n",
       "</div>"
      ],
      "text/plain": [
       "                 Attrition_Count  Attrition_dependent_Count\n",
       "Dependent_count                                            \n",
       "0                            135                        135\n",
       "1                            269                        269\n",
       "2                            417                        417\n",
       "3                            482                        482\n",
       "4                            260                        260\n",
       "5                             64                         64"
      ]
     },
     "execution_count": 212,
     "metadata": {},
     "output_type": "execute_result"
    }
   ],
   "source": [
    "df_dependent_sum "
   ]
  },
  {
   "cell_type": "markdown",
   "id": "f9868b08",
   "metadata": {},
   "source": [
    "### Step 4: Calculating the rate/percentage"
   ]
  },
  {
   "cell_type": "code",
   "execution_count": 162,
   "id": "e6583ca6",
   "metadata": {},
   "outputs": [],
   "source": [
    "df_dependent_rate = df_dependent_sum[\"Attrition_dependent_Count\"] / df_dependent_count[\"Attrition_Count\"]"
   ]
  },
  {
   "cell_type": "code",
   "execution_count": 163,
   "id": "9703d847",
   "metadata": {},
   "outputs": [
    {
     "data": {
      "text/plain": [
       "Dependent_count\n",
       "0    0.149336\n",
       "1    0.146355\n",
       "2    0.157062\n",
       "3    0.176428\n",
       "4    0.165184\n",
       "5    0.150943\n",
       "dtype: float64"
      ]
     },
     "execution_count": 163,
     "metadata": {},
     "output_type": "execute_result"
    }
   ],
   "source": [
    "df_dependent_rate"
   ]
  },
  {
   "cell_type": "code",
   "execution_count": 164,
   "id": "a124abf1",
   "metadata": {},
   "outputs": [],
   "source": [
    "df_dependent_final = pd.concat([df_dependent_count,df_dependent_rate], axis = 1)"
   ]
  },
  {
   "cell_type": "code",
   "execution_count": 166,
   "id": "99068b7c",
   "metadata": {},
   "outputs": [],
   "source": [
    "df_dependent_final.rename({0 : \"Attrition_float\"} , axis = 1, inplace = True)"
   ]
  },
  {
   "cell_type": "code",
   "execution_count": 167,
   "id": "97da3cae",
   "metadata": {},
   "outputs": [
    {
     "data": {
      "text/html": [
       "<div>\n",
       "<style scoped>\n",
       "    .dataframe tbody tr th:only-of-type {\n",
       "        vertical-align: middle;\n",
       "    }\n",
       "\n",
       "    .dataframe tbody tr th {\n",
       "        vertical-align: top;\n",
       "    }\n",
       "\n",
       "    .dataframe thead th {\n",
       "        text-align: right;\n",
       "    }\n",
       "</style>\n",
       "<table border=\"1\" class=\"dataframe\">\n",
       "  <thead>\n",
       "    <tr style=\"text-align: right;\">\n",
       "      <th></th>\n",
       "      <th>Attrition_Flag</th>\n",
       "      <th>Attrition_Count</th>\n",
       "      <th>Attrition_dependent_Count</th>\n",
       "      <th>Attrition_float</th>\n",
       "    </tr>\n",
       "    <tr>\n",
       "      <th>Dependent_count</th>\n",
       "      <th></th>\n",
       "      <th></th>\n",
       "      <th></th>\n",
       "      <th></th>\n",
       "    </tr>\n",
       "  </thead>\n",
       "  <tbody>\n",
       "    <tr>\n",
       "      <th>0</th>\n",
       "      <td>904</td>\n",
       "      <td>904</td>\n",
       "      <td>904</td>\n",
       "      <td>0.149336</td>\n",
       "    </tr>\n",
       "    <tr>\n",
       "      <th>1</th>\n",
       "      <td>1838</td>\n",
       "      <td>1838</td>\n",
       "      <td>1838</td>\n",
       "      <td>0.146355</td>\n",
       "    </tr>\n",
       "    <tr>\n",
       "      <th>2</th>\n",
       "      <td>2655</td>\n",
       "      <td>2655</td>\n",
       "      <td>2655</td>\n",
       "      <td>0.157062</td>\n",
       "    </tr>\n",
       "    <tr>\n",
       "      <th>3</th>\n",
       "      <td>2732</td>\n",
       "      <td>2732</td>\n",
       "      <td>2732</td>\n",
       "      <td>0.176428</td>\n",
       "    </tr>\n",
       "    <tr>\n",
       "      <th>4</th>\n",
       "      <td>1574</td>\n",
       "      <td>1574</td>\n",
       "      <td>1574</td>\n",
       "      <td>0.165184</td>\n",
       "    </tr>\n",
       "    <tr>\n",
       "      <th>5</th>\n",
       "      <td>424</td>\n",
       "      <td>424</td>\n",
       "      <td>424</td>\n",
       "      <td>0.150943</td>\n",
       "    </tr>\n",
       "  </tbody>\n",
       "</table>\n",
       "</div>"
      ],
      "text/plain": [
       "                 Attrition_Flag  Attrition_Count  Attrition_dependent_Count  \\\n",
       "Dependent_count                                                               \n",
       "0                           904              904                        904   \n",
       "1                          1838             1838                       1838   \n",
       "2                          2655             2655                       2655   \n",
       "3                          2732             2732                       2732   \n",
       "4                          1574             1574                       1574   \n",
       "5                           424              424                        424   \n",
       "\n",
       "                 Attrition_float  \n",
       "Dependent_count                   \n",
       "0                       0.149336  \n",
       "1                       0.146355  \n",
       "2                       0.157062  \n",
       "3                       0.176428  \n",
       "4                       0.165184  \n",
       "5                       0.150943  "
      ]
     },
     "execution_count": 167,
     "metadata": {},
     "output_type": "execute_result"
    }
   ],
   "source": [
    "df_dependent_final"
   ]
  },
  {
   "cell_type": "code",
   "execution_count": 169,
   "id": "6527d114",
   "metadata": {},
   "outputs": [],
   "source": [
    "df_dependent_final[\"Attrition_pct\"] = df_dependent_final[\"Attrition_float\"].map(\"{:.2%}\".format)"
   ]
  },
  {
   "cell_type": "markdown",
   "id": "278321e3",
   "metadata": {},
   "source": [
    "### Step 5: Plotting the Combo chart form the Data Frame Created."
   ]
  },
  {
   "cell_type": "code",
   "execution_count": 172,
   "id": "876685b2",
   "metadata": {},
   "outputs": [],
   "source": [
    "x = df_dependent_final.index\n",
    "y1 = df_dependent_final[\"Attrition_Count\"] \n",
    "y2 = df_dependent_final[\"Attrition_float\"] \n",
    "y3 = df_dependent_final[\"Attrition_pct\"]"
   ]
  },
  {
   "cell_type": "code",
   "execution_count": 175,
   "id": "3ee84e6b",
   "metadata": {},
   "outputs": [
    {
     "data": {
      "image/png": "[encoded data removed]",
      "text/plain": [
       "<Figure size 1500x900 with 2 Axes>"
      ]
     },
     "metadata": {},
     "output_type": "display_data"
    }
   ],
   "source": [
    "fig, ax = plt.subplots(figsize = (15,9))\n",
    "# drawing the bar chart\n",
    "ax.bar(x, y1,\n",
    "color = \"orange\", edgecolor = \"blue\", label = \"Total Count\")\n",
    "ax.set_xticks(x, x, fontsize = 20, rotation = 45) # create a twin x so we have the right y axis\n",
    "ax1 = ax.twinx()\n",
    "# using y2 the float to plot\n",
    "ax1.plot(x, y2,\n",
    "linewidth = 3, linestyle = \":\", color = \"magenta\", marker = 'o', markersize = 15, markerfacecolor = \"cyan\", label = \"Percentage of attrition\")\n",
    "# using y2 as value, y3 as ticks\n",
    "ax1.set_yticks(y2, y3, fontsize = 20)\n",
    "# plot the legend\n",
    "ax.legend(loc = \"upper left\", fontsize = 20) \n",
    "ax1.legend(loc = \"upper right\", fontsize = 20)\n",
    "plt.show()"
   ]
  },
  {
   "cell_type": "code",
   "execution_count": null,
   "id": "790d44ad",
   "metadata": {},
   "outputs": [],
   "source": []
  },
  {
   "cell_type": "markdown",
   "id": "6f0de70e",
   "metadata": {},
   "source": [
    "### Combo chart regarding Card category Attrition Percentage."
   ]
  },
  {
   "cell_type": "markdown",
   "id": "5b0959b9",
   "metadata": {},
   "source": [
    "### Step 1: Creating table with information we need."
   ]
  },
  {
   "cell_type": "code",
   "execution_count": 246,
   "id": "751ef1dd",
   "metadata": {},
   "outputs": [],
   "source": [
    "df_card = df[[\"Attrition_Flag\", \"Card_Category\"]].copy()"
   ]
  },
  {
   "cell_type": "markdown",
   "id": "3d9a42d6",
   "metadata": {},
   "source": [
    "### Step 2 : Assigning binary number to Attrition Flag"
   ]
  },
  {
   "cell_type": "code",
   "execution_count": 276,
   "id": "6d221622",
   "metadata": {},
   "outputs": [],
   "source": [
    "df_card[\"Attrition_binary\"] = df_card[\"Attrition_Flag\"].map({\"Existing Customer\": 0, \"Attrited Customer\": 1})"
   ]
  },
  {
   "cell_type": "markdown",
   "id": "0a8df814",
   "metadata": {},
   "source": [
    "### Step 3: Using group by and sum/count function."
   ]
  },
  {
   "cell_type": "code",
   "execution_count": 277,
   "id": "11b2dab9",
   "metadata": {},
   "outputs": [
    {
     "name": "stderr",
     "output_type": "stream",
     "text": [
      "/var/folders/_6/tsvwl7mj4wq1y64czljdw6bm0000gn/T/ipykernel_69113/2718256964.py:1: FutureWarning:\n",
      "\n",
      "The default value of numeric_only in DataFrameGroupBy.sum is deprecated. In a future version, numeric_only will default to False. Either specify numeric_only or select only columns which should be valid for the function.\n",
      "\n"
     ]
    }
   ],
   "source": [
    "df_card_number = df_card.groupby(\"Card_Category\").sum()"
   ]
  },
  {
   "cell_type": "code",
   "execution_count": 278,
   "id": "4d0fdb50",
   "metadata": {},
   "outputs": [
    {
     "data": {
      "text/html": [
       "<div>\n",
       "<style scoped>\n",
       "    .dataframe tbody tr th:only-of-type {\n",
       "        vertical-align: middle;\n",
       "    }\n",
       "\n",
       "    .dataframe tbody tr th {\n",
       "        vertical-align: top;\n",
       "    }\n",
       "\n",
       "    .dataframe thead th {\n",
       "        text-align: right;\n",
       "    }\n",
       "</style>\n",
       "<table border=\"1\" class=\"dataframe\">\n",
       "  <thead>\n",
       "    <tr style=\"text-align: right;\">\n",
       "      <th></th>\n",
       "      <th>Attrition_count</th>\n",
       "      <th>Attrition_binary</th>\n",
       "    </tr>\n",
       "    <tr>\n",
       "      <th>Card_Category</th>\n",
       "      <th></th>\n",
       "      <th></th>\n",
       "    </tr>\n",
       "  </thead>\n",
       "  <tbody>\n",
       "    <tr>\n",
       "      <th>Blue</th>\n",
       "      <td>1519</td>\n",
       "      <td>1519</td>\n",
       "    </tr>\n",
       "    <tr>\n",
       "      <th>Gold</th>\n",
       "      <td>21</td>\n",
       "      <td>21</td>\n",
       "    </tr>\n",
       "    <tr>\n",
       "      <th>Platinum</th>\n",
       "      <td>5</td>\n",
       "      <td>5</td>\n",
       "    </tr>\n",
       "    <tr>\n",
       "      <th>Silver</th>\n",
       "      <td>82</td>\n",
       "      <td>82</td>\n",
       "    </tr>\n",
       "  </tbody>\n",
       "</table>\n",
       "</div>"
      ],
      "text/plain": [
       "               Attrition_count  Attrition_binary\n",
       "Card_Category                                   \n",
       "Blue                      1519              1519\n",
       "Gold                        21                21\n",
       "Platinum                     5                 5\n",
       "Silver                      82                82"
      ]
     },
     "execution_count": 278,
     "metadata": {},
     "output_type": "execute_result"
    }
   ],
   "source": [
    "df_card_number"
   ]
  },
  {
   "cell_type": "code",
   "execution_count": 279,
   "id": "8a290f84",
   "metadata": {},
   "outputs": [],
   "source": [
    "df_card_totalcount = df_card.groupby(\"Card_Category\").count()"
   ]
  },
  {
   "cell_type": "code",
   "execution_count": 280,
   "id": "7778daed",
   "metadata": {},
   "outputs": [
    {
     "data": {
      "text/html": [
       "<div>\n",
       "<style scoped>\n",
       "    .dataframe tbody tr th:only-of-type {\n",
       "        vertical-align: middle;\n",
       "    }\n",
       "\n",
       "    .dataframe tbody tr th {\n",
       "        vertical-align: top;\n",
       "    }\n",
       "\n",
       "    .dataframe thead th {\n",
       "        text-align: right;\n",
       "    }\n",
       "</style>\n",
       "<table border=\"1\" class=\"dataframe\">\n",
       "  <thead>\n",
       "    <tr style=\"text-align: right;\">\n",
       "      <th></th>\n",
       "      <th>Attrition_Flag</th>\n",
       "      <th>Attrition_count</th>\n",
       "      <th>Attrition_binary</th>\n",
       "    </tr>\n",
       "    <tr>\n",
       "      <th>Card_Category</th>\n",
       "      <th></th>\n",
       "      <th></th>\n",
       "      <th></th>\n",
       "    </tr>\n",
       "  </thead>\n",
       "  <tbody>\n",
       "    <tr>\n",
       "      <th>Blue</th>\n",
       "      <td>9436</td>\n",
       "      <td>9436</td>\n",
       "      <td>9436</td>\n",
       "    </tr>\n",
       "    <tr>\n",
       "      <th>Gold</th>\n",
       "      <td>116</td>\n",
       "      <td>116</td>\n",
       "      <td>116</td>\n",
       "    </tr>\n",
       "    <tr>\n",
       "      <th>Platinum</th>\n",
       "      <td>20</td>\n",
       "      <td>20</td>\n",
       "      <td>20</td>\n",
       "    </tr>\n",
       "    <tr>\n",
       "      <th>Silver</th>\n",
       "      <td>555</td>\n",
       "      <td>555</td>\n",
       "      <td>555</td>\n",
       "    </tr>\n",
       "  </tbody>\n",
       "</table>\n",
       "</div>"
      ],
      "text/plain": [
       "               Attrition_Flag  Attrition_count  Attrition_binary\n",
       "Card_Category                                                   \n",
       "Blue                     9436             9436              9436\n",
       "Gold                      116              116               116\n",
       "Platinum                   20               20                20\n",
       "Silver                    555              555               555"
      ]
     },
     "execution_count": 280,
     "metadata": {},
     "output_type": "execute_result"
    }
   ],
   "source": [
    "df_card_totalcount"
   ]
  },
  {
   "cell_type": "markdown",
   "id": "e6aab6c1",
   "metadata": {},
   "source": [
    "### Step 4: Calculating the rate/percentage"
   ]
  },
  {
   "cell_type": "code",
   "execution_count": 281,
   "id": "4aea8b18",
   "metadata": {},
   "outputs": [],
   "source": [
    "df_attrition_cardrate = df_card_number[\"Attrition_count\"] / df_card_totalcount[\"Attrition_binary\"]"
   ]
  },
  {
   "cell_type": "code",
   "execution_count": 282,
   "id": "6e43b7b6",
   "metadata": {},
   "outputs": [
    {
     "data": {
      "text/plain": [
       "Card_Category\n",
       "Blue        0.160979\n",
       "Gold        0.181034\n",
       "Platinum    0.250000\n",
       "Silver      0.147748\n",
       "dtype: float64"
      ]
     },
     "execution_count": 282,
     "metadata": {},
     "output_type": "execute_result"
    }
   ],
   "source": [
    "df_attrition_cardrate"
   ]
  },
  {
   "cell_type": "code",
   "execution_count": 283,
   "id": "3e7fc485",
   "metadata": {},
   "outputs": [],
   "source": [
    "df_card_final = pd.concat([df_card_totalcount,df_attrition_cardrate], axis = 1)"
   ]
  },
  {
   "cell_type": "code",
   "execution_count": 284,
   "id": "cd42706b",
   "metadata": {},
   "outputs": [
    {
     "data": {
      "text/html": [
       "<div>\n",
       "<style scoped>\n",
       "    .dataframe tbody tr th:only-of-type {\n",
       "        vertical-align: middle;\n",
       "    }\n",
       "\n",
       "    .dataframe tbody tr th {\n",
       "        vertical-align: top;\n",
       "    }\n",
       "\n",
       "    .dataframe thead th {\n",
       "        text-align: right;\n",
       "    }\n",
       "</style>\n",
       "<table border=\"1\" class=\"dataframe\">\n",
       "  <thead>\n",
       "    <tr style=\"text-align: right;\">\n",
       "      <th></th>\n",
       "      <th>Attrition_Flag</th>\n",
       "      <th>Attrition_count</th>\n",
       "      <th>Attrition_binary</th>\n",
       "      <th>0</th>\n",
       "    </tr>\n",
       "    <tr>\n",
       "      <th>Card_Category</th>\n",
       "      <th></th>\n",
       "      <th></th>\n",
       "      <th></th>\n",
       "      <th></th>\n",
       "    </tr>\n",
       "  </thead>\n",
       "  <tbody>\n",
       "    <tr>\n",
       "      <th>Blue</th>\n",
       "      <td>9436</td>\n",
       "      <td>9436</td>\n",
       "      <td>9436</td>\n",
       "      <td>0.160979</td>\n",
       "    </tr>\n",
       "    <tr>\n",
       "      <th>Gold</th>\n",
       "      <td>116</td>\n",
       "      <td>116</td>\n",
       "      <td>116</td>\n",
       "      <td>0.181034</td>\n",
       "    </tr>\n",
       "    <tr>\n",
       "      <th>Platinum</th>\n",
       "      <td>20</td>\n",
       "      <td>20</td>\n",
       "      <td>20</td>\n",
       "      <td>0.250000</td>\n",
       "    </tr>\n",
       "    <tr>\n",
       "      <th>Silver</th>\n",
       "      <td>555</td>\n",
       "      <td>555</td>\n",
       "      <td>555</td>\n",
       "      <td>0.147748</td>\n",
       "    </tr>\n",
       "  </tbody>\n",
       "</table>\n",
       "</div>"
      ],
      "text/plain": [
       "               Attrition_Flag  Attrition_count  Attrition_binary         0\n",
       "Card_Category                                                             \n",
       "Blue                     9436             9436              9436  0.160979\n",
       "Gold                      116              116               116  0.181034\n",
       "Platinum                   20               20                20  0.250000\n",
       "Silver                    555              555               555  0.147748"
      ]
     },
     "execution_count": 284,
     "metadata": {},
     "output_type": "execute_result"
    }
   ],
   "source": [
    "df_card_final"
   ]
  },
  {
   "cell_type": "code",
   "execution_count": 285,
   "id": "08342e57",
   "metadata": {},
   "outputs": [],
   "source": [
    "df_card_final.rename({0: \"Attrition_float\"}, axis = 1,inplace = True)"
   ]
  },
  {
   "cell_type": "code",
   "execution_count": 290,
   "id": "32738a1b",
   "metadata": {},
   "outputs": [],
   "source": [
    "df_card_final[\"Attrition_pct\"] = df_card_final[\"Attrition_float\"].map(\"{:.2%}\".format)"
   ]
  },
  {
   "cell_type": "code",
   "execution_count": 291,
   "id": "36452079",
   "metadata": {},
   "outputs": [
    {
     "data": {
      "text/html": [
       "<div>\n",
       "<style scoped>\n",
       "    .dataframe tbody tr th:only-of-type {\n",
       "        vertical-align: middle;\n",
       "    }\n",
       "\n",
       "    .dataframe tbody tr th {\n",
       "        vertical-align: top;\n",
       "    }\n",
       "\n",
       "    .dataframe thead th {\n",
       "        text-align: right;\n",
       "    }\n",
       "</style>\n",
       "<table border=\"1\" class=\"dataframe\">\n",
       "  <thead>\n",
       "    <tr style=\"text-align: right;\">\n",
       "      <th></th>\n",
       "      <th>Attrition_Flag</th>\n",
       "      <th>Attrition_count</th>\n",
       "      <th>Attrition_binary</th>\n",
       "      <th>Attrition_float</th>\n",
       "      <th>Attrition_pct</th>\n",
       "    </tr>\n",
       "    <tr>\n",
       "      <th>Card_Category</th>\n",
       "      <th></th>\n",
       "      <th></th>\n",
       "      <th></th>\n",
       "      <th></th>\n",
       "      <th></th>\n",
       "    </tr>\n",
       "  </thead>\n",
       "  <tbody>\n",
       "    <tr>\n",
       "      <th>Blue</th>\n",
       "      <td>9436</td>\n",
       "      <td>9436</td>\n",
       "      <td>9436</td>\n",
       "      <td>0.160979</td>\n",
       "      <td>16.10%</td>\n",
       "    </tr>\n",
       "    <tr>\n",
       "      <th>Gold</th>\n",
       "      <td>116</td>\n",
       "      <td>116</td>\n",
       "      <td>116</td>\n",
       "      <td>0.181034</td>\n",
       "      <td>18.10%</td>\n",
       "    </tr>\n",
       "    <tr>\n",
       "      <th>Platinum</th>\n",
       "      <td>20</td>\n",
       "      <td>20</td>\n",
       "      <td>20</td>\n",
       "      <td>0.250000</td>\n",
       "      <td>25.00%</td>\n",
       "    </tr>\n",
       "    <tr>\n",
       "      <th>Silver</th>\n",
       "      <td>555</td>\n",
       "      <td>555</td>\n",
       "      <td>555</td>\n",
       "      <td>0.147748</td>\n",
       "      <td>14.77%</td>\n",
       "    </tr>\n",
       "  </tbody>\n",
       "</table>\n",
       "</div>"
      ],
      "text/plain": [
       "               Attrition_Flag  Attrition_count  Attrition_binary  \\\n",
       "Card_Category                                                      \n",
       "Blue                     9436             9436              9436   \n",
       "Gold                      116              116               116   \n",
       "Platinum                   20               20                20   \n",
       "Silver                    555              555               555   \n",
       "\n",
       "               Attrition_float Attrition_pct  \n",
       "Card_Category                                 \n",
       "Blue                  0.160979        16.10%  \n",
       "Gold                  0.181034        18.10%  \n",
       "Platinum              0.250000        25.00%  \n",
       "Silver                0.147748        14.77%  "
      ]
     },
     "execution_count": 291,
     "metadata": {},
     "output_type": "execute_result"
    }
   ],
   "source": [
    "df_card_final"
   ]
  },
  {
   "cell_type": "markdown",
   "id": "de84b8f2",
   "metadata": {},
   "source": [
    "### Step 5: Plotting the Combo chart form the Data Frame Created."
   ]
  },
  {
   "cell_type": "code",
   "execution_count": 292,
   "id": "ae37eef0",
   "metadata": {},
   "outputs": [],
   "source": [
    "x = df_card_final.index\n",
    "y1 = df_card_final[\"Attrition_count\"] \n",
    "y2 = df_card_final[\"Attrition_float\"] \n",
    "y3 = df_card_final[\"Attrition_pct\"]"
   ]
  },
  {
   "cell_type": "code",
   "execution_count": 293,
   "id": "882547d2",
   "metadata": {},
   "outputs": [
    {
     "data": {
      "image/png": "[encoded data removed]",
      "text/plain": [
       "<Figure size 1500x900 with 2 Axes>"
      ]
     },
     "metadata": {},
     "output_type": "display_data"
    }
   ],
   "source": [
    "fig, ax = plt.subplots(figsize = (15,9))\n",
    "# drawing the bar chart\n",
    "ax.bar(x, y1,\n",
    "color = \"orange\", edgecolor = \"blue\", label = \"number of attrition\")\n",
    "ax.set_xticks(x, x, fontsize = 20, rotation = 45) # create a twin x so we have the right y axis\n",
    "ax1 = ax.twinx()\n",
    "# using y2 the float to plot\n",
    "ax1.plot(x, y2,\n",
    "linewidth = 3, linestyle = \":\", color = \"magenta\", marker = 'o', markersize = 15, markerfacecolor = \"cyan\", label = \"Percentage of attrition\")\n",
    "# using y2 as value, y3 as ticks\n",
    "ax1.set_yticks(y2, y3, fontsize = 20)\n",
    "# plot the legend\n",
    "ax.legend(loc = \"upper left\", fontsize = 20) \n",
    "ax1.legend(loc = \"upper right\", fontsize = 20)\n",
    "plt.show()"
   ]
  },
  {
   "cell_type": "code",
   "execution_count": null,
   "id": "e6fc16f3",
   "metadata": {},
   "outputs": [],
   "source": []
  },
  {
   "cell_type": "code",
   "execution_count": null,
   "id": "01ad4b6f",
   "metadata": {},
   "outputs": [],
   "source": []
  },
  {
   "cell_type": "markdown",
   "id": "c765d2e4",
   "metadata": {},
   "source": [
    "### Attrition Regarding Credit Card Customer Age."
   ]
  },
  {
   "cell_type": "code",
   "execution_count": 323,
   "id": "e204465f",
   "metadata": {},
   "outputs": [],
   "source": [
    "df_Age = df[[\"Attrition_Flag\", \"Customer_Age\"]].copy()"
   ]
  },
  {
   "cell_type": "code",
   "execution_count": 346,
   "id": "2b4c0d4f",
   "metadata": {},
   "outputs": [],
   "source": [
    "df_Age[\"Attrition_binary\"] = df_Age[\"Attrition_Flag\"].map({\"Existing Customer\": 0, \"Attrited Customer\": 1})"
   ]
  },
  {
   "cell_type": "code",
   "execution_count": 351,
   "id": "2d2fb1d8",
   "metadata": {},
   "outputs": [
    {
     "name": "stderr",
     "output_type": "stream",
     "text": [
      "/var/folders/_6/tsvwl7mj4wq1y64czljdw6bm0000gn/T/ipykernel_69113/2204573578.py:1: FutureWarning:\n",
      "\n",
      "The default value of numeric_only in DataFrameGroupBy.sum is deprecated. In a future version, numeric_only will default to False. Either specify numeric_only or select only columns which should be valid for the function.\n",
      "\n"
     ]
    }
   ],
   "source": [
    "df_Age_sum = df_Age.groupby(\"Customer_Age\").sum()\n"
   ]
  },
  {
   "cell_type": "code",
   "execution_count": 349,
   "id": "474c5615",
   "metadata": {},
   "outputs": [],
   "source": [
    "df_Age_count = df_Age.groupby(\"Customer_Age\").count()"
   ]
  },
  {
   "cell_type": "code",
   "execution_count": 356,
   "id": "8253665b",
   "metadata": {},
   "outputs": [],
   "source": [
    "df_attrition_Agerate = df_Age_sum[\"Attrition_binary\"] / df_Age_count[\"Attrition_Flag\"]"
   ]
  },
  {
   "cell_type": "code",
   "execution_count": 362,
   "id": "7af70656",
   "metadata": {},
   "outputs": [],
   "source": [
    "df_age_final = pd.concat([df_Age_count,df_attrition_Agerate], axis = 1)"
   ]
  },
  {
   "cell_type": "code",
   "execution_count": 364,
   "id": "22581b18",
   "metadata": {},
   "outputs": [],
   "source": [
    "df_age_final.rename({0: \"Attrition_float\"}, axis = 1,inplace = True)"
   ]
  },
  {
   "cell_type": "code",
   "execution_count": 365,
   "id": "e821565a",
   "metadata": {},
   "outputs": [],
   "source": [
    "df_age_final[\"Attrition_pct\"] = df_age_final[\"Attrition_float\"].map(\"{:.2%}\".format)"
   ]
  },
  {
   "cell_type": "code",
   "execution_count": 366,
   "id": "de32105f",
   "metadata": {},
   "outputs": [
    {
     "data": {
      "text/html": [
       "<div>\n",
       "<style scoped>\n",
       "    .dataframe tbody tr th:only-of-type {\n",
       "        vertical-align: middle;\n",
       "    }\n",
       "\n",
       "    .dataframe tbody tr th {\n",
       "        vertical-align: top;\n",
       "    }\n",
       "\n",
       "    .dataframe thead th {\n",
       "        text-align: right;\n",
       "    }\n",
       "</style>\n",
       "<table border=\"1\" class=\"dataframe\">\n",
       "  <thead>\n",
       "    <tr style=\"text-align: right;\">\n",
       "      <th></th>\n",
       "      <th>Attrition_Flag</th>\n",
       "      <th>Attrition_binary</th>\n",
       "      <th>Attrition_float</th>\n",
       "      <th>Attrition_pct</th>\n",
       "    </tr>\n",
       "    <tr>\n",
       "      <th>Customer_Age</th>\n",
       "      <th></th>\n",
       "      <th></th>\n",
       "      <th></th>\n",
       "      <th></th>\n",
       "    </tr>\n",
       "  </thead>\n",
       "  <tbody>\n",
       "    <tr>\n",
       "      <th>26</th>\n",
       "      <td>78</td>\n",
       "      <td>78</td>\n",
       "      <td>0.076923</td>\n",
       "      <td>7.69%</td>\n",
       "    </tr>\n",
       "    <tr>\n",
       "      <th>27</th>\n",
       "      <td>32</td>\n",
       "      <td>32</td>\n",
       "      <td>0.093750</td>\n",
       "      <td>9.38%</td>\n",
       "    </tr>\n",
       "    <tr>\n",
       "      <th>28</th>\n",
       "      <td>29</td>\n",
       "      <td>29</td>\n",
       "      <td>0.034483</td>\n",
       "      <td>3.45%</td>\n",
       "    </tr>\n",
       "    <tr>\n",
       "      <th>29</th>\n",
       "      <td>56</td>\n",
       "      <td>56</td>\n",
       "      <td>0.125000</td>\n",
       "      <td>12.50%</td>\n",
       "    </tr>\n",
       "    <tr>\n",
       "      <th>30</th>\n",
       "      <td>70</td>\n",
       "      <td>70</td>\n",
       "      <td>0.214286</td>\n",
       "      <td>21.43%</td>\n",
       "    </tr>\n",
       "    <tr>\n",
       "      <th>31</th>\n",
       "      <td>91</td>\n",
       "      <td>91</td>\n",
       "      <td>0.142857</td>\n",
       "      <td>14.29%</td>\n",
       "    </tr>\n",
       "    <tr>\n",
       "      <th>32</th>\n",
       "      <td>106</td>\n",
       "      <td>106</td>\n",
       "      <td>0.160377</td>\n",
       "      <td>16.04%</td>\n",
       "    </tr>\n",
       "    <tr>\n",
       "      <th>33</th>\n",
       "      <td>127</td>\n",
       "      <td>127</td>\n",
       "      <td>0.157480</td>\n",
       "      <td>15.75%</td>\n",
       "    </tr>\n",
       "    <tr>\n",
       "      <th>34</th>\n",
       "      <td>146</td>\n",
       "      <td>146</td>\n",
       "      <td>0.130137</td>\n",
       "      <td>13.01%</td>\n",
       "    </tr>\n",
       "    <tr>\n",
       "      <th>35</th>\n",
       "      <td>184</td>\n",
       "      <td>184</td>\n",
       "      <td>0.114130</td>\n",
       "      <td>11.41%</td>\n",
       "    </tr>\n",
       "    <tr>\n",
       "      <th>36</th>\n",
       "      <td>221</td>\n",
       "      <td>221</td>\n",
       "      <td>0.108597</td>\n",
       "      <td>10.86%</td>\n",
       "    </tr>\n",
       "    <tr>\n",
       "      <th>37</th>\n",
       "      <td>260</td>\n",
       "      <td>260</td>\n",
       "      <td>0.142308</td>\n",
       "      <td>14.23%</td>\n",
       "    </tr>\n",
       "    <tr>\n",
       "      <th>38</th>\n",
       "      <td>303</td>\n",
       "      <td>303</td>\n",
       "      <td>0.155116</td>\n",
       "      <td>15.51%</td>\n",
       "    </tr>\n",
       "    <tr>\n",
       "      <th>39</th>\n",
       "      <td>333</td>\n",
       "      <td>333</td>\n",
       "      <td>0.144144</td>\n",
       "      <td>14.41%</td>\n",
       "    </tr>\n",
       "    <tr>\n",
       "      <th>40</th>\n",
       "      <td>361</td>\n",
       "      <td>361</td>\n",
       "      <td>0.177285</td>\n",
       "      <td>17.73%</td>\n",
       "    </tr>\n",
       "    <tr>\n",
       "      <th>41</th>\n",
       "      <td>379</td>\n",
       "      <td>379</td>\n",
       "      <td>0.200528</td>\n",
       "      <td>20.05%</td>\n",
       "    </tr>\n",
       "    <tr>\n",
       "      <th>42</th>\n",
       "      <td>426</td>\n",
       "      <td>426</td>\n",
       "      <td>0.145540</td>\n",
       "      <td>14.55%</td>\n",
       "    </tr>\n",
       "    <tr>\n",
       "      <th>43</th>\n",
       "      <td>473</td>\n",
       "      <td>473</td>\n",
       "      <td>0.179704</td>\n",
       "      <td>17.97%</td>\n",
       "    </tr>\n",
       "    <tr>\n",
       "      <th>44</th>\n",
       "      <td>500</td>\n",
       "      <td>500</td>\n",
       "      <td>0.168000</td>\n",
       "      <td>16.80%</td>\n",
       "    </tr>\n",
       "    <tr>\n",
       "      <th>45</th>\n",
       "      <td>486</td>\n",
       "      <td>486</td>\n",
       "      <td>0.162551</td>\n",
       "      <td>16.26%</td>\n",
       "    </tr>\n",
       "    <tr>\n",
       "      <th>46</th>\n",
       "      <td>490</td>\n",
       "      <td>490</td>\n",
       "      <td>0.167347</td>\n",
       "      <td>16.73%</td>\n",
       "    </tr>\n",
       "    <tr>\n",
       "      <th>47</th>\n",
       "      <td>479</td>\n",
       "      <td>479</td>\n",
       "      <td>0.158664</td>\n",
       "      <td>15.87%</td>\n",
       "    </tr>\n",
       "    <tr>\n",
       "      <th>48</th>\n",
       "      <td>472</td>\n",
       "      <td>472</td>\n",
       "      <td>0.180085</td>\n",
       "      <td>18.01%</td>\n",
       "    </tr>\n",
       "    <tr>\n",
       "      <th>49</th>\n",
       "      <td>495</td>\n",
       "      <td>495</td>\n",
       "      <td>0.159596</td>\n",
       "      <td>15.96%</td>\n",
       "    </tr>\n",
       "    <tr>\n",
       "      <th>50</th>\n",
       "      <td>452</td>\n",
       "      <td>452</td>\n",
       "      <td>0.157080</td>\n",
       "      <td>15.71%</td>\n",
       "    </tr>\n",
       "    <tr>\n",
       "      <th>51</th>\n",
       "      <td>398</td>\n",
       "      <td>398</td>\n",
       "      <td>0.145729</td>\n",
       "      <td>14.57%</td>\n",
       "    </tr>\n",
       "    <tr>\n",
       "      <th>52</th>\n",
       "      <td>376</td>\n",
       "      <td>376</td>\n",
       "      <td>0.154255</td>\n",
       "      <td>15.43%</td>\n",
       "    </tr>\n",
       "    <tr>\n",
       "      <th>53</th>\n",
       "      <td>387</td>\n",
       "      <td>387</td>\n",
       "      <td>0.152455</td>\n",
       "      <td>15.25%</td>\n",
       "    </tr>\n",
       "    <tr>\n",
       "      <th>54</th>\n",
       "      <td>307</td>\n",
       "      <td>307</td>\n",
       "      <td>0.224756</td>\n",
       "      <td>22.48%</td>\n",
       "    </tr>\n",
       "    <tr>\n",
       "      <th>55</th>\n",
       "      <td>279</td>\n",
       "      <td>279</td>\n",
       "      <td>0.182796</td>\n",
       "      <td>18.28%</td>\n",
       "    </tr>\n",
       "    <tr>\n",
       "      <th>56</th>\n",
       "      <td>262</td>\n",
       "      <td>262</td>\n",
       "      <td>0.164122</td>\n",
       "      <td>16.41%</td>\n",
       "    </tr>\n",
       "    <tr>\n",
       "      <th>57</th>\n",
       "      <td>223</td>\n",
       "      <td>223</td>\n",
       "      <td>0.147982</td>\n",
       "      <td>14.80%</td>\n",
       "    </tr>\n",
       "    <tr>\n",
       "      <th>58</th>\n",
       "      <td>157</td>\n",
       "      <td>157</td>\n",
       "      <td>0.152866</td>\n",
       "      <td>15.29%</td>\n",
       "    </tr>\n",
       "    <tr>\n",
       "      <th>59</th>\n",
       "      <td>157</td>\n",
       "      <td>157</td>\n",
       "      <td>0.254777</td>\n",
       "      <td>25.48%</td>\n",
       "    </tr>\n",
       "    <tr>\n",
       "      <th>60</th>\n",
       "      <td>127</td>\n",
       "      <td>127</td>\n",
       "      <td>0.102362</td>\n",
       "      <td>10.24%</td>\n",
       "    </tr>\n",
       "    <tr>\n",
       "      <th>61</th>\n",
       "      <td>93</td>\n",
       "      <td>93</td>\n",
       "      <td>0.182796</td>\n",
       "      <td>18.28%</td>\n",
       "    </tr>\n",
       "    <tr>\n",
       "      <th>62</th>\n",
       "      <td>93</td>\n",
       "      <td>93</td>\n",
       "      <td>0.182796</td>\n",
       "      <td>18.28%</td>\n",
       "    </tr>\n",
       "    <tr>\n",
       "      <th>63</th>\n",
       "      <td>65</td>\n",
       "      <td>65</td>\n",
       "      <td>0.123077</td>\n",
       "      <td>12.31%</td>\n",
       "    </tr>\n",
       "    <tr>\n",
       "      <th>64</th>\n",
       "      <td>43</td>\n",
       "      <td>43</td>\n",
       "      <td>0.116279</td>\n",
       "      <td>11.63%</td>\n",
       "    </tr>\n",
       "    <tr>\n",
       "      <th>65</th>\n",
       "      <td>101</td>\n",
       "      <td>101</td>\n",
       "      <td>0.089109</td>\n",
       "      <td>8.91%</td>\n",
       "    </tr>\n",
       "    <tr>\n",
       "      <th>66</th>\n",
       "      <td>2</td>\n",
       "      <td>2</td>\n",
       "      <td>0.500000</td>\n",
       "      <td>50.00%</td>\n",
       "    </tr>\n",
       "    <tr>\n",
       "      <th>67</th>\n",
       "      <td>4</td>\n",
       "      <td>4</td>\n",
       "      <td>0.000000</td>\n",
       "      <td>0.00%</td>\n",
       "    </tr>\n",
       "    <tr>\n",
       "      <th>68</th>\n",
       "      <td>2</td>\n",
       "      <td>2</td>\n",
       "      <td>0.500000</td>\n",
       "      <td>50.00%</td>\n",
       "    </tr>\n",
       "    <tr>\n",
       "      <th>70</th>\n",
       "      <td>1</td>\n",
       "      <td>1</td>\n",
       "      <td>0.000000</td>\n",
       "      <td>0.00%</td>\n",
       "    </tr>\n",
       "    <tr>\n",
       "      <th>73</th>\n",
       "      <td>1</td>\n",
       "      <td>1</td>\n",
       "      <td>0.000000</td>\n",
       "      <td>0.00%</td>\n",
       "    </tr>\n",
       "  </tbody>\n",
       "</table>\n",
       "</div>"
      ],
      "text/plain": [
       "              Attrition_Flag  Attrition_binary  Attrition_float Attrition_pct\n",
       "Customer_Age                                                                 \n",
       "26                        78                78         0.076923         7.69%\n",
       "27                        32                32         0.093750         9.38%\n",
       "28                        29                29         0.034483         3.45%\n",
       "29                        56                56         0.125000        12.50%\n",
       "30                        70                70         0.214286        21.43%\n",
       "31                        91                91         0.142857        14.29%\n",
       "32                       106               106         0.160377        16.04%\n",
       "33                       127               127         0.157480        15.75%\n",
       "34                       146               146         0.130137        13.01%\n",
       "35                       184               184         0.114130        11.41%\n",
       "36                       221               221         0.108597        10.86%\n",
       "37                       260               260         0.142308        14.23%\n",
       "38                       303               303         0.155116        15.51%\n",
       "39                       333               333         0.144144        14.41%\n",
       "40                       361               361         0.177285        17.73%\n",
       "41                       379               379         0.200528        20.05%\n",
       "42                       426               426         0.145540        14.55%\n",
       "43                       473               473         0.179704        17.97%\n",
       "44                       500               500         0.168000        16.80%\n",
       "45                       486               486         0.162551        16.26%\n",
       "46                       490               490         0.167347        16.73%\n",
       "47                       479               479         0.158664        15.87%\n",
       "48                       472               472         0.180085        18.01%\n",
       "49                       495               495         0.159596        15.96%\n",
       "50                       452               452         0.157080        15.71%\n",
       "51                       398               398         0.145729        14.57%\n",
       "52                       376               376         0.154255        15.43%\n",
       "53                       387               387         0.152455        15.25%\n",
       "54                       307               307         0.224756        22.48%\n",
       "55                       279               279         0.182796        18.28%\n",
       "56                       262               262         0.164122        16.41%\n",
       "57                       223               223         0.147982        14.80%\n",
       "58                       157               157         0.152866        15.29%\n",
       "59                       157               157         0.254777        25.48%\n",
       "60                       127               127         0.102362        10.24%\n",
       "61                        93                93         0.182796        18.28%\n",
       "62                        93                93         0.182796        18.28%\n",
       "63                        65                65         0.123077        12.31%\n",
       "64                        43                43         0.116279        11.63%\n",
       "65                       101               101         0.089109         8.91%\n",
       "66                         2                 2         0.500000        50.00%\n",
       "67                         4                 4         0.000000         0.00%\n",
       "68                         2                 2         0.500000        50.00%\n",
       "70                         1                 1         0.000000         0.00%\n",
       "73                         1                 1         0.000000         0.00%"
      ]
     },
     "execution_count": 366,
     "metadata": {},
     "output_type": "execute_result"
    }
   ],
   "source": [
    "df_age_final"
   ]
  },
  {
   "cell_type": "code",
   "execution_count": 374,
   "id": "cb65bcb7",
   "metadata": {},
   "outputs": [],
   "source": [
    "x = df_age_final.index\n",
    "y1 = df_age_final[\"Attrition_binary\"] \n",
    "y2 = df_age_final[\"Attrition_float\"] \n",
    "y3 = df_age_final[\"Attrition_pct\"]"
   ]
  },
  {
   "cell_type": "code",
   "execution_count": 386,
   "id": "166ca667",
   "metadata": {},
   "outputs": [
    {
     "name": "stderr",
     "output_type": "stream",
     "text": [
      "No artists with labels found to put in legend.  Note that artists whose label start with an underscore are ignored when legend() is called with no argument.\n"
     ]
    },
    {
     "data": {
      "image/png": "[encoded data removed]",
      "text/plain": [
       "<Figure size 1500x900 with 2 Axes>"
      ]
     },
     "metadata": {},
     "output_type": "display_data"
    }
   ],
   "source": [
    "fig, ax = plt.subplots(figsize = (15,9))\n",
    "# drawing the bar chart\n",
    "ax.bar(x, y1,\n",
    "color = \"orange\", edgecolor = \"blue\", label = \"Total Count of Attrition Flag\")\n",
    "ax.set_xticks(x, x, fontsize = 15, rotation = 90) # create a twin x so we have the right y axis\n",
    "ax1 = ax.twinx()\n",
    "# using y2 the float to plot\n",
    "ax1.plot(x, y2,\n",
    "linewidth = 3, linestyle = \":\", color = \"magenta\", marker = 'o', markersize = 15, markerfacecolor = \"cyan\")\n",
    "# using y2 as value, y3 as ticks\n",
    "\n",
    "# plot the legend\n",
    "ax.legend(loc = \"upper left\", fontsize = 10) \n",
    "ax1.legend(loc = \"upper right\", fontsize = 10)\n",
    "plt.show()"
   ]
  },
  {
   "cell_type": "code",
   "execution_count": null,
   "id": "4a0585ad",
   "metadata": {},
   "outputs": [],
   "source": []
  }
 ],
 "metadata": {
  "kernelspec": {
   "display_name": "Python 3 (ipykernel)",
   "language": "python",
   "name": "python3"
  },
  "language_info": {
   "codemirror_mode": {
    "name": "ipython",
    "version": 3
   },
   "file_extension": ".py",
   "mimetype": "text/x-python",
   "name": "python",
   "nbconvert_exporter": "python",
   "pygments_lexer": "ipython3",
   "version": "3.10.9"
  }
 },
 "nbformat": 4,
 "nbformat_minor": 5
}
